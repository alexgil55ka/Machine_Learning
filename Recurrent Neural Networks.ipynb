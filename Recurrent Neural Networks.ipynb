{
 "cells": [
  {
   "cell_type": "code",
   "execution_count": 1,
   "metadata": {},
   "outputs": [],
   "source": [
    "from __future__ import absolute_import\n",
    "from __future__ import division\n",
    "from __future__ import print_function\n",
    "\n",
    "\n",
    "import numpy as np\n",
    "import pandas as pd\n",
    "import tensorflow as tf\n",
    "import chakin\n",
    "import time\n",
    "\n",
    "import json\n",
    "import os\n",
    "import os.path  # for manipulation of file path names\n",
    "import re  # regular expressions\n",
    "\n",
    "from collections import defaultdict\n",
    "import nltk\n",
    "from nltk.tokenize import TreebankWordTokenizer\n",
    "\n",
    "import time\n",
    "\n",
    "import itertools\n",
    "\n",
    "RANDOM_SEED = 9999\n",
    "\n",
    "def reset_graph(seed= RANDOM_SEED):\n",
    "    tf.reset_default_graph()\n",
    "    tf.set_random_seed(seed)\n",
    "    np.random.seed(seed)"
   ]
  },
  {
   "cell_type": "code",
   "execution_count": 2,
   "metadata": {},
   "outputs": [
    {
     "name": "stdout",
     "output_type": "stream",
     "text": [
      "                   Name  Dimension                     Corpus VocabularySize  \\\n",
      "2          fastText(en)        300                  Wikipedia           2.5M   \n",
      "11         GloVe.6B.50d         50  Wikipedia+Gigaword 5 (6B)           400K   \n",
      "12        GloVe.6B.100d        100  Wikipedia+Gigaword 5 (6B)           400K   \n",
      "13        GloVe.6B.200d        200  Wikipedia+Gigaword 5 (6B)           400K   \n",
      "14        GloVe.6B.300d        300  Wikipedia+Gigaword 5 (6B)           400K   \n",
      "15       GloVe.42B.300d        300          Common Crawl(42B)           1.9M   \n",
      "16      GloVe.840B.300d        300         Common Crawl(840B)           2.2M   \n",
      "17    GloVe.Twitter.25d         25               Twitter(27B)           1.2M   \n",
      "18    GloVe.Twitter.50d         50               Twitter(27B)           1.2M   \n",
      "19   GloVe.Twitter.100d        100               Twitter(27B)           1.2M   \n",
      "20   GloVe.Twitter.200d        200               Twitter(27B)           1.2M   \n",
      "21  word2vec.GoogleNews        300          Google News(100B)           3.0M   \n",
      "\n",
      "      Method Language    Author  \n",
      "2   fastText  English  Facebook  \n",
      "11     GloVe  English  Stanford  \n",
      "12     GloVe  English  Stanford  \n",
      "13     GloVe  English  Stanford  \n",
      "14     GloVe  English  Stanford  \n",
      "15     GloVe  English  Stanford  \n",
      "16     GloVe  English  Stanford  \n",
      "17     GloVe  English  Stanford  \n",
      "18     GloVe  English  Stanford  \n",
      "19     GloVe  English  Stanford  \n",
      "20     GloVe  English  Stanford  \n",
      "21  word2vec  English    Google  \n"
     ]
    }
   ],
   "source": [
    "chakin.search(lang= 'English')"
   ]
  },
  {
   "cell_type": "code",
   "execution_count": 3,
   "metadata": {},
   "outputs": [
    {
     "name": "stdout",
     "output_type": "stream",
     "text": [
      "Embeddings already downloaded.\n",
      "Embeddings already extracted.\n",
      "\n",
      "Run complete\n"
     ]
    }
   ],
   "source": [
    "\n",
    "\n",
    "CHAKIN_INDEX = 11\n",
    "NUMBER_OF_DIMENSIONS = 50\n",
    "SUBFOLDER_NAME = \"glove.6B\"\n",
    "\n",
    "DATA_FOLDER = \"embeddings\"\n",
    "ZIP_FILE = os.path.join(DATA_FOLDER, \"{}.zip\".format(SUBFOLDER_NAME))\n",
    "ZIP_FILE_ALT = \"glove\" + ZIP_FILE[5:]  # sometimes it's lowercase only...\n",
    "UNZIP_FOLDER = os.path.join(DATA_FOLDER, SUBFOLDER_NAME)\n",
    "if SUBFOLDER_NAME[-1] == \"d\":\n",
    "    GLOVE_FILENAME = os.path.join(\n",
    "        UNZIP_FOLDER, \"{}.txt\".format(SUBFOLDER_NAME))\n",
    "else:\n",
    "    GLOVE_FILENAME = os.path.join(UNZIP_FOLDER, \"{}.{}d.txt\".format(\n",
    "        SUBFOLDER_NAME, NUMBER_OF_DIMENSIONS))\n",
    "    \n",
    "if not os.path.exists(ZIP_FILE) and not os.path.exists(UNZIP_FOLDER):\n",
    "    print(\"Downloading embeddings to '{}'\".format(ZIP_FILE))\n",
    "    chakin.download(number=CHAKIN_INDEX, save_dir='./{}'.format(DATA_FOLDER))\n",
    "else:\n",
    "    print(\"Embeddings already downloaded.\")\n",
    "\n",
    "if not os.path.exists(UNZIP_FOLDER):\n",
    "    import zipfile\n",
    "    if not os.path.exists(ZIP_FILE) and os.path.exists(ZIP_FILE_ALT):\n",
    "        ZIP_FILE = ZIP_FILE_ALT\n",
    "    with zipfile.ZipFile(ZIP_FILE, \"r\") as zip_ref:\n",
    "        print(\"Extracting embeddings to '{}'\".format(UNZIP_FOLDER))\n",
    "        zip_ref.extractall(UNZIP_FOLDER)\n",
    "else:\n",
    "    print(\"Embeddings already extracted.\")\n",
    "\n",
    "print('\\nRun complete')"
   ]
  },
  {
   "cell_type": "code",
   "execution_count": 4,
   "metadata": {},
   "outputs": [],
   "source": [
    "REMOVE_STOPWORDS = False\n",
    "EVOCABSIZE = 10000  # specify desired size of pre-defined embedding vocabulary \n"
   ]
  },
  {
   "cell_type": "code",
   "execution_count": 5,
   "metadata": {},
   "outputs": [],
   "source": [
    "# Select the pre-defined embeddings source        \n",
    "# Define vocabulary size for the language model    \n",
    "# Create a word_to_embedding_dict for GloVe.6B.50d\n",
    "embeddings_directory = 'embeddings/gloVe.6B'\n",
    "filename = 'glove.6B.50d.txt'\n",
    "embeddings_filename = os.path.join(embeddings_directory, filename)"
   ]
  },
  {
   "cell_type": "code",
   "execution_count": 6,
   "metadata": {},
   "outputs": [
    {
     "name": "stdout",
     "output_type": "stream",
     "text": [
      "\n",
      "Loading embeddings from embeddings/gloVe.6B\\glove.6B.50d.txt\n",
      "Embedding loaded from disks.\n"
     ]
    }
   ],
   "source": [
    "# For word embeddings, this default value is a vector of zeros\n",
    "# Documentation for the Python standard library:\n",
    "#   Hellmann, D. 2017. The Python 3 Standard Library by Example. Boston: \n",
    "#     Addison-Wesley. [ISBN-13: 978-0-13-429105-5]\n",
    "def load_embedding_from_disks(embeddings_filename, with_indexes=True):\n",
    "    \"\"\"\n",
    "    Read a embeddings txt file. If `with_indexes=True`, \n",
    "    we return a tuple of two dictionnaries\n",
    "    `(word_to_index_dict, index_to_embedding_array)`, \n",
    "    otherwise we return only a direct \n",
    "    `word_to_embedding_dict` dictionnary mapping \n",
    "    from a string to a numpy array.\n",
    "    \"\"\"\n",
    "    if with_indexes:\n",
    "        word_to_index_dict = dict()\n",
    "        index_to_embedding_array = []\n",
    "  \n",
    "    else:\n",
    "        word_to_embedding_dict = dict()\n",
    "\n",
    "    with open(embeddings_filename, 'r', encoding='utf-8') as embeddings_file:\n",
    "        for (i, line) in enumerate(embeddings_file):\n",
    "\n",
    "            split = line.split(' ')\n",
    "\n",
    "            word = split[0]\n",
    "\n",
    "            representation = split[1:]\n",
    "            representation = np.array(\n",
    "                [float(val) for val in representation]\n",
    "            )\n",
    "\n",
    "            if with_indexes:\n",
    "                word_to_index_dict[word] = i\n",
    "                index_to_embedding_array.append(representation)\n",
    "            else:\n",
    "                word_to_embedding_dict[word] = representation\n",
    "\n",
    "    # Empty representation for unknown words.\n",
    "    _WORD_NOT_FOUND = [0.0] * len(representation)\n",
    "    if with_indexes:\n",
    "        _LAST_INDEX = i + 1\n",
    "        word_to_index_dict = defaultdict(\n",
    "            lambda: _LAST_INDEX, word_to_index_dict)\n",
    "        index_to_embedding_array = np.array(\n",
    "            index_to_embedding_array + [_WORD_NOT_FOUND])\n",
    "        return word_to_index_dict, index_to_embedding_array\n",
    "    else:\n",
    "        word_to_embedding_dict = defaultdict(lambda: _WORD_NOT_FOUND)\n",
    "        return word_to_embedding_dict\n",
    "\n",
    "print('\\nLoading embeddings from', embeddings_filename)\n",
    "word_to_index, index_to_embedding = \\\n",
    "    load_embedding_from_disks(embeddings_filename, with_indexes=True)\n",
    "print(\"Embedding loaded from disks.\")"
   ]
  },
  {
   "cell_type": "code",
   "execution_count": 7,
   "metadata": {},
   "outputs": [
    {
     "name": "stdout",
     "output_type": "stream",
     "text": [
      "Embedding is of shape: (400001, 50)\n",
      "This means (number of words, number of dimensions per word)\n",
      "\n",
      "The first words are words that tend occur more often.\n",
      "Note: for unknown words, the representation is an empty vector,\n",
      "and the index is the last one. The dictionnary has a limit:\n",
      "    A word --> Index in embedding --> Representation\n",
      "    worsdfkljsdf --> 400000 --> [0, 0, 0, 0, 0, 0, 0, 0, 0, 0, 0, 0, 0, 0, 0, 0, 0, 0, 0, 0, 0, 0, 0, 0, 0, 0, 0, 0, 0, 0, 0, 0, 0, 0, 0, 0, 0, 0, 0, 0, 0, 0, 0, 0, 0, 0, 0, 0, 0, 0]\n",
      "    the --> 0 --> [0.418, 0.24968, -0.41242, 0.1217, 0.34527, -0.044457, -0.49688, -0.17862, -0.00066023, -0.6566, 0.27843, -0.14767, -0.55677, 0.14658, -0.0095095, 0.011658, 0.10204, -0.12792, -0.8443, -0.12181, -0.016801, -0.33279, -0.1552, -0.23131, -0.19181, -1.8823, -0.76746, 0.099051, -0.42125, -0.19526, 4.0071, -0.18594, -0.52287, -0.31681, 0.00059213, 0.0074449, 0.17778, -0.15897, 0.012041, -0.054223, -0.29871, -0.15749, -0.34758, -0.045637, -0.44251, 0.18785, 0.0027849, -0.18411, -0.11514, -0.78581]\n"
     ]
    }
   ],
   "source": [
    "# Additional background code from\n",
    "# https://github.com/guillaume-chevalier/GloVe-as-a-TensorFlow-Embedding-Layer\n",
    "# shows the general structure of the data structures for word embeddings\n",
    "# This code is modified for our purposes in language modeling \n",
    "vocab_size, embedding_dim = index_to_embedding.shape\n",
    "print(\"Embedding is of shape: {}\".format(index_to_embedding.shape))\n",
    "print(\"This means (number of words, number of dimensions per word)\\n\")\n",
    "print(\"The first words are words that tend occur more often.\")\n",
    "\n",
    "print(\"Note: for unknown words, the representation is an empty vector,\\n\"\n",
    "      \"and the index is the last one. The dictionnary has a limit:\")\n",
    "print(\"    {} --> {} --> {}\".format(\"A word\", \"Index in embedding\", \n",
    "      \"Representation\"))\n",
    "word = \"worsdfkljsdf\"  # a word obviously not in the vocabulary\n",
    "idx = word_to_index[word] # index for word obviously not in the vocabulary\n",
    "complete_vocabulary_size = idx \n",
    "embd = list(np.array(index_to_embedding[idx], dtype=int)) # \"int\" compact print\n",
    "print(\"    {} --> {} --> {}\".format(word, idx, embd))\n",
    "word = \"the\"\n",
    "idx = word_to_index[word]\n",
    "embd = list(index_to_embedding[idx])  # \"int\" for compact print only.\n",
    "print(\"    {} --> {} --> {}\".format(word, idx, embd))"
   ]
  },
  {
   "cell_type": "code",
   "execution_count": 8,
   "metadata": {},
   "outputs": [
    {
     "name": "stdout",
     "output_type": "stream",
     "text": [
      "\n",
      "Test sentence:  The quick brown fox jumps over the lazy dog \n",
      "\n",
      "Test sentence embeddings from complete vocabulary of 400000 words:\n",
      "\n",
      "the:  [ 4.1800e-01  2.4968e-01 -4.1242e-01  1.2170e-01  3.4527e-01 -4.4457e-02\n",
      " -4.9688e-01 -1.7862e-01 -6.6023e-04 -6.5660e-01  2.7843e-01 -1.4767e-01\n",
      " -5.5677e-01  1.4658e-01 -9.5095e-03  1.1658e-02  1.0204e-01 -1.2792e-01\n",
      " -8.4430e-01 -1.2181e-01 -1.6801e-02 -3.3279e-01 -1.5520e-01 -2.3131e-01\n",
      " -1.9181e-01 -1.8823e+00 -7.6746e-01  9.9051e-02 -4.2125e-01 -1.9526e-01\n",
      "  4.0071e+00 -1.8594e-01 -5.2287e-01 -3.1681e-01  5.9213e-04  7.4449e-03\n",
      "  1.7778e-01 -1.5897e-01  1.2041e-02 -5.4223e-02 -2.9871e-01 -1.5749e-01\n",
      " -3.4758e-01 -4.5637e-02 -4.4251e-01  1.8785e-01  2.7849e-03 -1.8411e-01\n",
      " -1.1514e-01 -7.8581e-01]\n",
      "quick:  [ 0.13967   -0.53798   -0.18047   -0.25142    0.16203   -0.13868\n",
      " -0.24637    0.75111    0.27264    0.61035   -0.82548    0.038647\n",
      " -0.32361    0.30373   -0.14598   -0.23551    0.39267   -1.1287\n",
      " -0.23636   -1.0629     0.046277   0.29143   -0.25819   -0.094902\n",
      "  0.79478   -1.2095    -0.01039   -0.092086   0.84322   -0.11061\n",
      "  3.0096     0.51652   -0.76986    0.51074    0.37508    0.12156\n",
      "  0.082794   0.43605   -0.1584    -0.61048    0.35006    0.52465\n",
      " -0.51747    0.0034705  0.73625    0.16252    0.85279    0.85268\n",
      "  0.57892    0.64483  ]\n",
      "brown:  [-0.88497   0.71685  -0.40379  -0.10698   0.81457   1.0258   -1.2698\n",
      " -0.49382  -0.27839  -0.92251  -0.49409   0.78942  -0.20066  -0.057371\n",
      "  0.060682  0.30746   0.13441  -0.49376  -0.54788  -0.81912  -0.45394\n",
      "  0.52098   1.0325   -0.8584   -0.65848  -1.2736    0.23616   1.0486\n",
      "  0.18442  -0.3901    2.1385   -0.45301  -0.16911  -0.46737   0.15938\n",
      " -0.095071 -0.26512  -0.056479  0.63849  -1.0494    0.037507  0.76434\n",
      " -0.6412   -0.59594   0.46589   0.31494  -0.34072  -0.59167  -0.31057\n",
      "  0.73274 ]\n",
      "fox:  [ 0.44206   0.059552  0.15861   0.92777   0.1876    0.24256  -1.593\n",
      " -0.79847  -0.34099  -0.24021  -0.32756   0.43639  -0.11057   0.50472\n",
      "  0.43853   0.19738  -0.1498   -0.046979 -0.83286   0.39878   0.062174\n",
      "  0.28803   0.79134   0.31798  -0.21933  -1.1015   -0.080309  0.39122\n",
      "  0.19503  -0.5936    1.7921    0.3826   -0.30509  -0.58686  -0.76935\n",
      " -0.61914  -0.61771  -0.68484  -0.67919  -0.74626  -0.036646  0.78251\n",
      " -1.0072   -0.59057  -0.7849   -0.39113  -0.49727  -0.4283   -0.15204\n",
      "  1.5064  ]\n",
      "jumps:  [-0.46105   -0.34219    0.71473   -0.29778    0.28839    0.6248\n",
      "  0.36807   -0.072746   0.60476    0.31463   -0.052247  -0.62302\n",
      " -0.56332    0.7855     0.18116   -0.31698    0.38298   -0.081953\n",
      " -1.3658    -0.78263    0.39804   -0.17001   -0.11926   -0.40146\n",
      "  1.1057    -0.51142   -0.36614    0.22177    0.34626   -0.30648\n",
      "  1.3869     0.77328    0.5946     1.2577     0.23472   -0.46087\n",
      " -0.009223   0.44534    0.012732  -0.24749   -0.7142     0.02422\n",
      "  0.083527   0.25088   -0.24259   -1.354      1.5481    -0.31728\n",
      "  0.55305   -0.0028062]\n",
      "over:  [ 0.12972    0.088073   0.24375    0.078102  -0.12783    0.27831\n",
      " -0.48693    0.19649   -0.39558   -0.28362   -0.47425   -0.59317\n",
      " -0.58804   -0.31702    0.49593    0.0087594  0.039613  -0.42495\n",
      " -0.97641   -0.46534    0.020675   0.086042   0.39317   -0.51255\n",
      " -0.17913   -1.8333     0.5622     0.41626    0.075127   0.02189\n",
      "  3.784      0.71067   -0.073943   0.15373   -0.3853    -0.070163\n",
      " -0.35374    0.074501  -0.084228  -0.45548   -0.081068   0.39157\n",
      "  0.173      0.2254    -0.12836    0.40951   -0.26079    0.090912\n",
      " -0.60515   -0.9827   ]\n",
      "the:  [ 4.1800e-01  2.4968e-01 -4.1242e-01  1.2170e-01  3.4527e-01 -4.4457e-02\n",
      " -4.9688e-01 -1.7862e-01 -6.6023e-04 -6.5660e-01  2.7843e-01 -1.4767e-01\n",
      " -5.5677e-01  1.4658e-01 -9.5095e-03  1.1658e-02  1.0204e-01 -1.2792e-01\n",
      " -8.4430e-01 -1.2181e-01 -1.6801e-02 -3.3279e-01 -1.5520e-01 -2.3131e-01\n",
      " -1.9181e-01 -1.8823e+00 -7.6746e-01  9.9051e-02 -4.2125e-01 -1.9526e-01\n",
      "  4.0071e+00 -1.8594e-01 -5.2287e-01 -3.1681e-01  5.9213e-04  7.4449e-03\n",
      "  1.7778e-01 -1.5897e-01  1.2041e-02 -5.4223e-02 -2.9871e-01 -1.5749e-01\n",
      " -3.4758e-01 -4.5637e-02 -4.4251e-01  1.8785e-01  2.7849e-03 -1.8411e-01\n",
      " -1.1514e-01 -7.8581e-01]\n",
      "lazy:  [-0.27611  -0.59712  -0.49227  -1.0372   -0.35878  -0.097425 -0.21014\n",
      " -0.092836 -0.054118  0.4542   -0.53296   0.37602   0.77087   0.79669\n",
      " -0.076608 -0.42515   0.42576   0.32791  -0.21996  -0.20261  -0.85139\n",
      "  0.80547   0.97621   0.9792    1.1118   -0.36062  -0.2588    0.8596\n",
      "  0.73631  -0.18601   1.2376   -0.038938  0.19246   0.52473  -0.04842\n",
      " -0.044149  0.064432  0.087822  0.42232  -0.55991  -0.44096   0.097736\n",
      " -0.17589   1.1799    0.13152  -1.0795    0.45685  -0.63312   1.2752\n",
      "  1.1672  ]\n",
      "dog:  [ 0.11008   -0.38781   -0.57615   -0.27714    0.70521    0.53994\n",
      " -1.0786    -0.40146    1.1504    -0.5678     0.0038977  0.52878\n",
      "  0.64561    0.47262    0.48549   -0.18407    0.1801     0.91397\n",
      " -1.1979    -0.5778    -0.37985    0.33606    0.772      0.75555\n",
      "  0.45506   -1.7671    -1.0503     0.42566    0.41893   -0.68327\n",
      "  1.5673     0.27685   -0.61708    0.64638   -0.076996   0.37118\n",
      "  0.1308    -0.45137    0.25398   -0.74392   -0.086199   0.24068\n",
      " -0.64819    0.83549    1.2502    -0.51379    0.04224   -0.88118\n",
      "  0.7158     0.38519  ]\n"
     ]
    }
   ],
   "source": [
    "# Show how to use embeddings dictionaries with a test sentence\n",
    "# This is a famous typing exercise with all letters of the alphabet\n",
    "# https://en.wikipedia.org/wiki/The_quick_brown_fox_jumps_over_the_lazy_dog\n",
    "a_typing_test_sentence = 'The quick brown fox jumps over the lazy dog'\n",
    "print('\\nTest sentence: ', a_typing_test_sentence, '\\n')\n",
    "words_in_test_sentence = a_typing_test_sentence.split()\n",
    "\n",
    "print('Test sentence embeddings from complete vocabulary of', \n",
    "      complete_vocabulary_size, 'words:\\n')\n",
    "for word in words_in_test_sentence:\n",
    "    word_ = word.lower()\n",
    "    embedding = index_to_embedding[word_to_index[word_]]\n",
    "    print(word_ + \": \", embedding)"
   ]
  },
  {
   "cell_type": "code",
   "execution_count": 9,
   "metadata": {},
   "outputs": [],
   "source": [
    "# Define vocabulary size for the language model    \n",
    "# To reduce the size of the vocabulary to the n most frequently used words\n",
    "\n",
    "def default_factory():\n",
    "    return EVOCABSIZE  # last/unknown-word row in limited_index_to_embedding\n",
    "# dictionary has the items() function, returns list of (key, value) tuples\n",
    "limited_word_to_index = defaultdict(default_factory, \\\n",
    "    {k: v for k, v in word_to_index.items() if v < EVOCABSIZE})"
   ]
  },
  {
   "cell_type": "code",
   "execution_count": 10,
   "metadata": {},
   "outputs": [],
   "source": [
    "# Select the first EVOCABSIZE rows to the index_to_embedding\n",
    "limited_index_to_embedding = index_to_embedding[0:EVOCABSIZE,:]\n",
    "# Set the unknown-word row to be all zeros as previously\n",
    "limited_index_to_embedding = np.append(limited_index_to_embedding, \n",
    "    index_to_embedding[index_to_embedding.shape[0] - 1, :].\\\n",
    "        reshape(1,embedding_dim), \n",
    "    axis = 0)"
   ]
  },
  {
   "cell_type": "code",
   "execution_count": 11,
   "metadata": {},
   "outputs": [],
   "source": [
    "# Delete large numpy array to clear some CPU RAM\n",
    "del index_to_embedding"
   ]
  },
  {
   "cell_type": "code",
   "execution_count": 12,
   "metadata": {},
   "outputs": [
    {
     "name": "stdout",
     "output_type": "stream",
     "text": [
      "\n",
      "Test sentence embeddings from vocabulary of 10000 words:\n",
      "\n",
      "the:  [ 4.1800e-01  2.4968e-01 -4.1242e-01  1.2170e-01  3.4527e-01 -4.4457e-02\n",
      " -4.9688e-01 -1.7862e-01 -6.6023e-04 -6.5660e-01  2.7843e-01 -1.4767e-01\n",
      " -5.5677e-01  1.4658e-01 -9.5095e-03  1.1658e-02  1.0204e-01 -1.2792e-01\n",
      " -8.4430e-01 -1.2181e-01 -1.6801e-02 -3.3279e-01 -1.5520e-01 -2.3131e-01\n",
      " -1.9181e-01 -1.8823e+00 -7.6746e-01  9.9051e-02 -4.2125e-01 -1.9526e-01\n",
      "  4.0071e+00 -1.8594e-01 -5.2287e-01 -3.1681e-01  5.9213e-04  7.4449e-03\n",
      "  1.7778e-01 -1.5897e-01  1.2041e-02 -5.4223e-02 -2.9871e-01 -1.5749e-01\n",
      " -3.4758e-01 -4.5637e-02 -4.4251e-01  1.8785e-01  2.7849e-03 -1.8411e-01\n",
      " -1.1514e-01 -7.8581e-01]\n",
      "quick:  [ 0.13967   -0.53798   -0.18047   -0.25142    0.16203   -0.13868\n",
      " -0.24637    0.75111    0.27264    0.61035   -0.82548    0.038647\n",
      " -0.32361    0.30373   -0.14598   -0.23551    0.39267   -1.1287\n",
      " -0.23636   -1.0629     0.046277   0.29143   -0.25819   -0.094902\n",
      "  0.79478   -1.2095    -0.01039   -0.092086   0.84322   -0.11061\n",
      "  3.0096     0.51652   -0.76986    0.51074    0.37508    0.12156\n",
      "  0.082794   0.43605   -0.1584    -0.61048    0.35006    0.52465\n",
      " -0.51747    0.0034705  0.73625    0.16252    0.85279    0.85268\n",
      "  0.57892    0.64483  ]\n",
      "brown:  [-0.88497   0.71685  -0.40379  -0.10698   0.81457   1.0258   -1.2698\n",
      " -0.49382  -0.27839  -0.92251  -0.49409   0.78942  -0.20066  -0.057371\n",
      "  0.060682  0.30746   0.13441  -0.49376  -0.54788  -0.81912  -0.45394\n",
      "  0.52098   1.0325   -0.8584   -0.65848  -1.2736    0.23616   1.0486\n",
      "  0.18442  -0.3901    2.1385   -0.45301  -0.16911  -0.46737   0.15938\n",
      " -0.095071 -0.26512  -0.056479  0.63849  -1.0494    0.037507  0.76434\n",
      " -0.6412   -0.59594   0.46589   0.31494  -0.34072  -0.59167  -0.31057\n",
      "  0.73274 ]\n",
      "fox:  [ 0.44206   0.059552  0.15861   0.92777   0.1876    0.24256  -1.593\n",
      " -0.79847  -0.34099  -0.24021  -0.32756   0.43639  -0.11057   0.50472\n",
      "  0.43853   0.19738  -0.1498   -0.046979 -0.83286   0.39878   0.062174\n",
      "  0.28803   0.79134   0.31798  -0.21933  -1.1015   -0.080309  0.39122\n",
      "  0.19503  -0.5936    1.7921    0.3826   -0.30509  -0.58686  -0.76935\n",
      " -0.61914  -0.61771  -0.68484  -0.67919  -0.74626  -0.036646  0.78251\n",
      " -1.0072   -0.59057  -0.7849   -0.39113  -0.49727  -0.4283   -0.15204\n",
      "  1.5064  ]\n",
      "jumps:  [0. 0. 0. 0. 0. 0. 0. 0. 0. 0. 0. 0. 0. 0. 0. 0. 0. 0. 0. 0. 0. 0. 0. 0.\n",
      " 0. 0. 0. 0. 0. 0. 0. 0. 0. 0. 0. 0. 0. 0. 0. 0. 0. 0. 0. 0. 0. 0. 0. 0.\n",
      " 0. 0.]\n",
      "over:  [ 0.12972    0.088073   0.24375    0.078102  -0.12783    0.27831\n",
      " -0.48693    0.19649   -0.39558   -0.28362   -0.47425   -0.59317\n",
      " -0.58804   -0.31702    0.49593    0.0087594  0.039613  -0.42495\n",
      " -0.97641   -0.46534    0.020675   0.086042   0.39317   -0.51255\n",
      " -0.17913   -1.8333     0.5622     0.41626    0.075127   0.02189\n",
      "  3.784      0.71067   -0.073943   0.15373   -0.3853    -0.070163\n",
      " -0.35374    0.074501  -0.084228  -0.45548   -0.081068   0.39157\n",
      "  0.173      0.2254    -0.12836    0.40951   -0.26079    0.090912\n",
      " -0.60515   -0.9827   ]\n",
      "the:  [ 4.1800e-01  2.4968e-01 -4.1242e-01  1.2170e-01  3.4527e-01 -4.4457e-02\n",
      " -4.9688e-01 -1.7862e-01 -6.6023e-04 -6.5660e-01  2.7843e-01 -1.4767e-01\n",
      " -5.5677e-01  1.4658e-01 -9.5095e-03  1.1658e-02  1.0204e-01 -1.2792e-01\n",
      " -8.4430e-01 -1.2181e-01 -1.6801e-02 -3.3279e-01 -1.5520e-01 -2.3131e-01\n",
      " -1.9181e-01 -1.8823e+00 -7.6746e-01  9.9051e-02 -4.2125e-01 -1.9526e-01\n",
      "  4.0071e+00 -1.8594e-01 -5.2287e-01 -3.1681e-01  5.9213e-04  7.4449e-03\n",
      "  1.7778e-01 -1.5897e-01  1.2041e-02 -5.4223e-02 -2.9871e-01 -1.5749e-01\n",
      " -3.4758e-01 -4.5637e-02 -4.4251e-01  1.8785e-01  2.7849e-03 -1.8411e-01\n",
      " -1.1514e-01 -7.8581e-01]\n",
      "lazy:  [0. 0. 0. 0. 0. 0. 0. 0. 0. 0. 0. 0. 0. 0. 0. 0. 0. 0. 0. 0. 0. 0. 0. 0.\n",
      " 0. 0. 0. 0. 0. 0. 0. 0. 0. 0. 0. 0. 0. 0. 0. 0. 0. 0. 0. 0. 0. 0. 0. 0.\n",
      " 0. 0.]\n",
      "dog:  [ 0.11008   -0.38781   -0.57615   -0.27714    0.70521    0.53994\n",
      " -1.0786    -0.40146    1.1504    -0.5678     0.0038977  0.52878\n",
      "  0.64561    0.47262    0.48549   -0.18407    0.1801     0.91397\n",
      " -1.1979    -0.5778    -0.37985    0.33606    0.772      0.75555\n",
      "  0.45506   -1.7671    -1.0503     0.42566    0.41893   -0.68327\n",
      "  1.5673     0.27685   -0.61708    0.64638   -0.076996   0.37118\n",
      "  0.1308    -0.45137    0.25398   -0.74392   -0.086199   0.24068\n",
      " -0.64819    0.83549    1.2502    -0.51379    0.04224   -0.88118\n",
      "  0.7158     0.38519  ]\n"
     ]
    }
   ],
   "source": [
    "# Verify the new vocabulary: should get same embeddings for test sentence\n",
    "# Note that a small EVOCABSIZE may yield some zero vectors for embeddings\n",
    "print('\\nTest sentence embeddings from vocabulary of', EVOCABSIZE, 'words:\\n')\n",
    "for word in words_in_test_sentence:\n",
    "    word_ = word.lower()\n",
    "    embedding = limited_index_to_embedding[limited_word_to_index[word_]]\n",
    "    print(word_ + \": \", embedding)"
   ]
  },
  {
   "cell_type": "code",
   "execution_count": 13,
   "metadata": {},
   "outputs": [],
   "source": [
    "# code for working with movie reviews data \n",
    "# Source: Miller, T. W. (2016). Web and Network Data Science.\n",
    "#    Upper Saddle River, N.J.: Pearson Education.\n",
    "#    ISBN-13: 978-0-13-388644-3\n",
    "# This original study used a simple bag-of-words approach\n",
    "# to sentiment analysis, along with pre-defined lists of\n",
    "# negative and positive words.        \n",
    "# Code available at:  https://github.com/mtpa/wnds       \n",
    "# ------------------------------------------------------------\n",
    "# Utility function to get file names within a directory\n",
    "def listdir_no_hidden(path):\n",
    "    start_list = os.listdir(path)\n",
    "    end_list = []\n",
    "    for file in start_list:\n",
    "        if (not file.startswith('.')):\n",
    "            end_list.append(file)\n",
    "    return(end_list)"
   ]
  },
  {
   "cell_type": "code",
   "execution_count": 14,
   "metadata": {},
   "outputs": [],
   "source": [
    "# define list of codes to be dropped from document\n",
    "# carriage-returns, line-feeds, tabs\n",
    "codelist = ['\\r', '\\n', '\\t']   "
   ]
  },
  {
   "cell_type": "code",
   "execution_count": 15,
   "metadata": {},
   "outputs": [],
   "source": [
    "# We will not remove stopwords in this exercise because they are\n",
    "# important to keeping sentences intact\n",
    "if REMOVE_STOPWORDS:\n",
    "    print(nltk.corpus.stopwords.words('english'))\n",
    "    # previous analysis of a list of top terms showed a number of words, along \n",
    "    # with contractions and other word strings to drop from further analysis, add\n",
    "    # these to the usual English stopwords to be dropped from a document collection\n",
    "    more_stop_words = ['cant','didnt','doesnt','dont','goes','isnt','hes',\\\n",
    "        'shes','thats','theres','theyre','wont','youll','youre','youve', 'br'\\\n",
    "        've', 're', 'vs'] \n",
    "\n",
    "    some_proper_nouns_to_remove = ['dick','ginger','hollywood','jack',\\\n",
    "        'jill','john','karloff','kudrow','orson','peter','tcm','tom',\\\n",
    "        'toni','welles','william','wolheim','nikita']\n",
    "\n",
    "    # start with the initial list and add to it for movie text work \n",
    "    stoplist = nltk.corpus.stopwords.words('english') + more_stop_words +\\\n",
    "        some_proper_nouns_to_remove"
   ]
  },
  {
   "cell_type": "code",
   "execution_count": 16,
   "metadata": {},
   "outputs": [],
   "source": [
    "# text parsing function for creating text documents \n",
    "# there is more we could do for data preparation \n",
    "# stemming... looking for contractions... possessives... \n",
    "# but we will work with what we have in this parsing function\n",
    "# if we want to do stemming at a later time, we can use\n",
    "#     porter = nltk.PorterStemmer()  \n",
    "# in a construction like this\n",
    "#     words_stemmed =  [porter.stem(word) for word in initial_words]  \n",
    "def text_parse(string):\n",
    "    # replace non-alphanumeric with space \n",
    "    temp_string = re.sub('[^a-zA-Z]', '  ', string)    \n",
    "    # replace codes with space\n",
    "    for i in range(len(codelist)):\n",
    "        stopstring = ' ' + codelist[i] + '  '\n",
    "        temp_string = re.sub(stopstring, '  ', temp_string)      \n",
    "    # replace single-character words with space\n",
    "    temp_string = re.sub('\\s.\\s', ' ', temp_string)   \n",
    "    # convert uppercase to lowercase\n",
    "    temp_string = temp_string.lower()    \n",
    "    if REMOVE_STOPWORDS:\n",
    "        # replace selected character strings/stop-words with space\n",
    "        for i in range(len(stoplist)):\n",
    "            stopstring = ' ' + str(stoplist[i]) + ' '\n",
    "            temp_string = re.sub(stopstring, ' ', temp_string)        \n",
    "    # replace multiple blank characters with one blank character\n",
    "    temp_string = re.sub('\\s+', ' ', temp_string)    \n",
    "    return(temp_string)    \n"
   ]
  },
  {
   "cell_type": "code",
   "execution_count": 17,
   "metadata": {},
   "outputs": [],
   "source": [
    "# -----------------------------------------------\n",
    "# gather data for 500 negative movie reviews\n",
    "# -----------------------------------------------\n",
    "dir_name = 'movie-reviews-negative'\n",
    "    \n",
    "filenames = listdir_no_hidden(path=dir_name)\n",
    "num_files = len(filenames)"
   ]
  },
  {
   "cell_type": "code",
   "execution_count": 18,
   "metadata": {},
   "outputs": [
    {
     "name": "stdout",
     "output_type": "stream",
     "text": [
      "\n",
      "Directory: movie-reviews-negative\n",
      "500 files found\n"
     ]
    }
   ],
   "source": [
    "for i in range(len(filenames)):\n",
    "    file_exists = os.path.isfile(os.path.join(dir_name, filenames[i]))\n",
    "    assert file_exists\n",
    "print('\\nDirectory:',dir_name)    \n",
    "print('%d files found' % len(filenames))\n"
   ]
  },
  {
   "cell_type": "code",
   "execution_count": 19,
   "metadata": {},
   "outputs": [],
   "source": [
    "# Read data for negative movie reviews\n",
    "# Data will be stored in a list of lists where the each list represents \n",
    "# a document and document is a list of words.\n",
    "# We then break the text into words.\n",
    "\n",
    "def read_data(filename):\n",
    "\n",
    "  with open(filename, encoding='utf-8') as f:\n",
    "    data = tf.compat.as_str(f.read())\n",
    "    data = data.lower()\n",
    "    data = text_parse(data)\n",
    "    data = TreebankWordTokenizer().tokenize(data)  # The Penn Treebank\n",
    "\n",
    "  return data"
   ]
  },
  {
   "cell_type": "code",
   "execution_count": 20,
   "metadata": {},
   "outputs": [
    {
     "name": "stdout",
     "output_type": "stream",
     "text": [
      "\n",
      "Processing document files under movie-reviews-negative\n"
     ]
    }
   ],
   "source": [
    "negative_documents = []\n",
    "\n",
    "print('\\nProcessing document files under', dir_name)\n",
    "for i in range(num_files):\n",
    "    ## print(' ', filenames[i])\n",
    "\n",
    "    words = read_data(os.path.join(dir_name, filenames[i]))\n",
    "\n",
    "    negative_documents.append(words)\n",
    "    # print('Data size (Characters) (Document %d) %d' %(i,len(words)))\n",
    "    # print('Sample string (Document %d) %s'%(i,words[:50]))\n",
    "\n"
   ]
  },
  {
   "cell_type": "code",
   "execution_count": 21,
   "metadata": {},
   "outputs": [
    {
     "name": "stdout",
     "output_type": "stream",
     "text": [
      "\n",
      "Directory: movie-reviews-positive\n",
      "500 files found\n"
     ]
    }
   ],
   "source": [
    "# -----------------------------------------------\n",
    "# gather data for 500 positive movie reviews\n",
    "# -----------------------------------------------\n",
    "dir_name = 'movie-reviews-positive'  \n",
    "filenames = listdir_no_hidden(path=dir_name)\n",
    "num_files = len(filenames)\n",
    "\n",
    "for i in range(len(filenames)):\n",
    "    file_exists = os.path.isfile(os.path.join(dir_name, filenames[i]))\n",
    "    assert file_exists\n",
    "print('\\nDirectory:',dir_name)    \n",
    "print('%d files found' % len(filenames))\n"
   ]
  },
  {
   "cell_type": "code",
   "execution_count": 22,
   "metadata": {},
   "outputs": [],
   "source": [
    "# Read data for positive movie reviews\n",
    "# Data will be stored in a list of lists where the each list \n",
    "# represents a document and document is a list of words.\n",
    "# We then break the text into words.\n",
    "\n",
    "def read_data(filename):\n",
    "\n",
    "  with open(filename, encoding='utf-8') as f:\n",
    "    data = tf.compat.as_str(f.read())\n",
    "    data = data.lower()\n",
    "    data = text_parse(data)\n",
    "    data = TreebankWordTokenizer().tokenize(data)  # The Penn Treebank\n",
    "\n",
    "  return data\n"
   ]
  },
  {
   "cell_type": "code",
   "execution_count": 23,
   "metadata": {},
   "outputs": [
    {
     "name": "stdout",
     "output_type": "stream",
     "text": [
      "\n",
      "Processing document files under movie-reviews-positive\n"
     ]
    }
   ],
   "source": [
    "positive_documents = []\n",
    "\n",
    "print('\\nProcessing document files under', dir_name)\n",
    "for i in range(num_files):\n",
    "    ## print(' ', filenames[i])\n",
    "\n",
    "    words = read_data(os.path.join(dir_name, filenames[i]))\n",
    "\n",
    "    positive_documents.append(words)\n",
    "    # print('Data size (Characters) (Document %d) %d' %(i,len(words)))\n",
    "    # print('Sample string (Document %d) %s'%(i,words[:50]))\n"
   ]
  },
  {
   "cell_type": "code",
   "execution_count": 24,
   "metadata": {},
   "outputs": [
    {
     "name": "stdout",
     "output_type": "stream",
     "text": [
      "max_review_length: 1052\n"
     ]
    }
   ],
   "source": [
    "# -----------------------------------------------------\n",
    "# convert positive/negative documents into numpy array\n",
    "# note that reviews vary from 22 to 1052 words   \n",
    "# so we use the first 20 and last 20 words of each review \n",
    "# as our word sequences for analysis\n",
    "# -----------------------------------------------------\n",
    "max_review_length = 0  # initialize\n",
    "for doc in negative_documents:\n",
    "    max_review_length = max(max_review_length, len(doc))    \n",
    "for doc in positive_documents:\n",
    "    max_review_length = max(max_review_length, len(doc)) \n",
    "print('max_review_length:', max_review_length) \n"
   ]
  },
  {
   "cell_type": "code",
   "execution_count": 25,
   "metadata": {},
   "outputs": [
    {
     "name": "stdout",
     "output_type": "stream",
     "text": [
      "min_review_length: 22\n"
     ]
    }
   ],
   "source": [
    "min_review_length = max_review_length  # initialize\n",
    "for doc in negative_documents:\n",
    "    min_review_length = min(min_review_length, len(doc))    \n",
    "for doc in positive_documents:\n",
    "    min_review_length = min(min_review_length, len(doc)) \n",
    "print('min_review_length:', min_review_length) \n"
   ]
  },
  {
   "cell_type": "code",
   "execution_count": 26,
   "metadata": {},
   "outputs": [],
   "source": [
    "# construct list of 1000 lists with 40 words in each list\n",
    "from itertools import chain\n",
    "documents = []\n",
    "for doc in negative_documents:\n",
    "    doc_begin = doc[0:20]\n",
    "    doc_end = doc[len(doc) - 20: len(doc)]\n",
    "    documents.append(list(chain(*[doc_begin, doc_end])))    \n",
    "for doc in positive_documents:\n",
    "    doc_begin = doc[0:20]\n",
    "    doc_end = doc[len(doc) - 20: len(doc)]\n",
    "    documents.append(list(chain(*[doc_begin, doc_end])))    \n"
   ]
  },
  {
   "cell_type": "code",
   "execution_count": 27,
   "metadata": {},
   "outputs": [],
   "source": [
    "# create list of lists of lists for embeddings\n",
    "embeddings = []    \n",
    "for doc in documents:\n",
    "    embedding = []\n",
    "    for word in doc:\n",
    "       embedding.append(limited_index_to_embedding[limited_word_to_index[word]]) \n",
    "    embeddings.append(embedding)"
   ]
  },
  {
   "cell_type": "code",
   "execution_count": 28,
   "metadata": {},
   "outputs": [
    {
     "name": "stdout",
     "output_type": "stream",
     "text": [
      "First word in first document: story\n",
      "Embedding for this word:\n",
      " [ 0.48251    0.87746   -0.23455    0.0262     0.79691    0.43102\n",
      " -0.60902   -0.60764   -0.42812   -0.012523  -1.2894     0.52656\n",
      " -0.82763    0.30689    1.1972    -0.47674   -0.46885   -0.19524\n",
      " -0.28403    0.35237    0.45536    0.76853    0.0062157  0.55421\n",
      "  1.0006    -1.3973    -1.6894     0.30003    0.60678   -0.46044\n",
      "  2.5961    -1.2178     0.28747   -0.46175   -0.25943    0.38209\n",
      " -0.28312   -0.47642   -0.059444  -0.59202    0.25613    0.21306\n",
      " -0.016129  -0.29873   -0.19468    0.53611    0.75459   -0.4112\n",
      "  0.23625    0.26451  ]\n",
      "Corresponding embedding from embeddings list of list of lists\n",
      " [ 0.48251    0.87746   -0.23455    0.0262     0.79691    0.43102\n",
      " -0.60902   -0.60764   -0.42812   -0.012523  -1.2894     0.52656\n",
      " -0.82763    0.30689    1.1972    -0.47674   -0.46885   -0.19524\n",
      " -0.28403    0.35237    0.45536    0.76853    0.0062157  0.55421\n",
      "  1.0006    -1.3973    -1.6894     0.30003    0.60678   -0.46044\n",
      "  2.5961    -1.2178     0.28747   -0.46175   -0.25943    0.38209\n",
      " -0.28312   -0.47642   -0.059444  -0.59202    0.25613    0.21306\n",
      " -0.016129  -0.29873   -0.19468    0.53611    0.75459   -0.4112\n",
      "  0.23625    0.26451  ]\n"
     ]
    }
   ],
   "source": [
    "# -----------------------------------------------------    \n",
    "# Check on the embeddings list of list of lists \n",
    "# -----------------------------------------------------\n",
    "# Show the first word in the first document\n",
    "test_word = documents[0][0]    \n",
    "print('First word in first document:', test_word)    \n",
    "print('Embedding for this word:\\n', \n",
    "      limited_index_to_embedding[limited_word_to_index[test_word]])\n",
    "print('Corresponding embedding from embeddings list of list of lists\\n',\n",
    "      embeddings[0][0][:])\n"
   ]
  },
  {
   "cell_type": "code",
   "execution_count": 29,
   "metadata": {},
   "outputs": [
    {
     "name": "stdout",
     "output_type": "stream",
     "text": [
      "Seventh word in tenth document: but\n",
      "Embedding for this word:\n",
      " [ 0.35934   -0.2657    -0.046477  -0.2496     0.54676    0.25924\n",
      " -0.64458    0.1736    -0.53056    0.13942    0.062324   0.18459\n",
      " -0.75495   -0.19569    0.70799    0.44759    0.27031   -0.32885\n",
      " -0.38891   -0.61606   -0.484      0.41703    0.34794   -0.19706\n",
      "  0.40734   -2.1488    -0.24284    0.33809    0.43993   -0.21616\n",
      "  3.7635     0.19002   -0.12503   -0.38228    0.12944   -0.18272\n",
      "  0.076803   0.51579    0.0072516 -0.29192   -0.27523    0.40593\n",
      " -0.040394   0.28353   -0.024724   0.10563   -0.32879    0.10673\n",
      " -0.11503    0.074678 ]\n",
      "Corresponding embedding from embeddings list of list of lists\n",
      " [ 0.35934   -0.2657    -0.046477  -0.2496     0.54676    0.25924\n",
      " -0.64458    0.1736    -0.53056    0.13942    0.062324   0.18459\n",
      " -0.75495   -0.19569    0.70799    0.44759    0.27031   -0.32885\n",
      " -0.38891   -0.61606   -0.484      0.41703    0.34794   -0.19706\n",
      "  0.40734   -2.1488    -0.24284    0.33809    0.43993   -0.21616\n",
      "  3.7635     0.19002   -0.12503   -0.38228    0.12944   -0.18272\n",
      "  0.076803   0.51579    0.0072516 -0.29192   -0.27523    0.40593\n",
      " -0.040394   0.28353   -0.024724   0.10563   -0.32879    0.10673\n",
      " -0.11503    0.074678 ]\n"
     ]
    }
   ],
   "source": [
    "# Show the seventh word in the tenth document\n",
    "test_word = documents[6][9]    \n",
    "print('Seventh word in tenth document:', test_word)    \n",
    "print('Embedding for this word:\\n', \n",
    "      limited_index_to_embedding[limited_word_to_index[test_word]])\n",
    "print('Corresponding embedding from embeddings list of list of lists\\n',\n",
    "      embeddings[6][9][:])\n"
   ]
  },
  {
   "cell_type": "code",
   "execution_count": 30,
   "metadata": {},
   "outputs": [
    {
     "name": "stdout",
     "output_type": "stream",
     "text": [
      "Last word in last document: from\n",
      "Embedding for this word:\n",
      " [ 0.41037   0.11342   0.051524 -0.53833  -0.12913   0.22247  -0.9494\n",
      " -0.18963  -0.36623  -0.067011  0.19356  -0.33044   0.11615  -0.58585\n",
      "  0.36106   0.12555  -0.3581   -0.023201 -1.2319    0.23383   0.71256\n",
      "  0.14824   0.50874  -0.12313  -0.20353  -1.82      0.22291   0.020291\n",
      " -0.081743 -0.27481   3.7343   -0.01874  -0.084522 -0.30364   0.27959\n",
      "  0.043328 -0.24621   0.015373  0.49751   0.15108  -0.01619   0.40132\n",
      "  0.23067  -0.10743  -0.36625  -0.051135  0.041474 -0.36064  -0.19616\n",
      " -0.81066 ]\n",
      "Corresponding embedding from embeddings list of list of lists\n",
      " [ 0.41037   0.11342   0.051524 -0.53833  -0.12913   0.22247  -0.9494\n",
      " -0.18963  -0.36623  -0.067011  0.19356  -0.33044   0.11615  -0.58585\n",
      "  0.36106   0.12555  -0.3581   -0.023201 -1.2319    0.23383   0.71256\n",
      "  0.14824   0.50874  -0.12313  -0.20353  -1.82      0.22291   0.020291\n",
      " -0.081743 -0.27481   3.7343   -0.01874  -0.084522 -0.30364   0.27959\n",
      "  0.043328 -0.24621   0.015373  0.49751   0.15108  -0.01619   0.40132\n",
      "  0.23067  -0.10743  -0.36625  -0.051135  0.041474 -0.36064  -0.19616\n",
      " -0.81066 ]\n"
     ]
    }
   ],
   "source": [
    "# Show the last word in the last document\n",
    "test_word = documents[999][39]    \n",
    "print('Last word in last document:', test_word)    \n",
    "print('Embedding for this word:\\n', \n",
    "      limited_index_to_embedding[limited_word_to_index[test_word]])\n",
    "print('Corresponding embedding from embeddings list of list of lists\\n',\n",
    "      embeddings[999][39][:]) "
   ]
  },
  {
   "cell_type": "code",
   "execution_count": 31,
   "metadata": {},
   "outputs": [],
   "source": [
    "# -----------------------------------------------------    \n",
    "# Make embeddings a numpy array for use in an RNN \n",
    "# Create training and test sets with Scikit Learn\n",
    "# -----------------------------------------------------\n",
    "embeddings_array = np.array(embeddings)\n"
   ]
  },
  {
   "cell_type": "code",
   "execution_count": 32,
   "metadata": {},
   "outputs": [],
   "source": [
    "# Define the labels to be used 500 negative (0) and 500 positive (1)\n",
    "thumbs_down_up = np.concatenate((np.zeros((500), dtype = np.int32), \n",
    "                      np.ones((500), dtype = np.int32)), axis = 0)"
   ]
  },
  {
   "cell_type": "code",
   "execution_count": 33,
   "metadata": {},
   "outputs": [],
   "source": [
    "# Scikit Learn for random splitting of the data  \n",
    "from sklearn.model_selection import train_test_split"
   ]
  },
  {
   "cell_type": "markdown",
   "metadata": {},
   "source": [
    "## Basic RNN 50d"
   ]
  },
  {
   "cell_type": "code",
   "execution_count": 34,
   "metadata": {
    "scrolled": false
   },
   "outputs": [
    {
     "name": "stderr",
     "output_type": "stream",
     "text": [
      "WARNING: Logging before flag parsing goes to stderr.\n",
      "W0818 17:12:50.015140  8112 lazy_loader.py:50] \n",
      "The TensorFlow contrib module will not be included in TensorFlow 2.0.\n",
      "For more information, please see:\n",
      "  * https://github.com/tensorflow/community/blob/master/rfcs/20180907-contrib-sunset.md\n",
      "  * https://github.com/tensorflow/addons\n",
      "  * https://github.com/tensorflow/io (for I/O related ops)\n",
      "If you depend on functionality not listed there, please file an issue.\n",
      "\n",
      "W0818 17:12:50.015140  8112 deprecation.py:323] From <ipython-input-34-2ee99865daaa>:27: BasicRNNCell.__init__ (from tensorflow.python.ops.rnn_cell_impl) is deprecated and will be removed in a future version.\n",
      "Instructions for updating:\n",
      "This class is equivalent as tf.keras.layers.SimpleRNNCell, and will be replaced by that in Tensorflow 2.0.\n",
      "W0818 17:12:50.015140  8112 deprecation.py:323] From <ipython-input-34-2ee99865daaa>:28: dynamic_rnn (from tensorflow.python.ops.rnn) is deprecated and will be removed in a future version.\n",
      "Instructions for updating:\n",
      "Please use `keras.layers.RNN(cell)`, which is equivalent to this API\n",
      "W0818 17:12:50.062006  8112 deprecation.py:506] From C:\\Users\\Himalaya\\Anaconda3\\envs\\hello-tf\\lib\\site-packages\\tensorflow\\python\\ops\\init_ops.py:1251: calling VarianceScaling.__init__ (from tensorflow.python.ops.init_ops) with dtype is deprecated and will be removed in a future version.\n",
      "Instructions for updating:\n",
      "Call initializer instance with the dtype argument instead of passing it to the constructor\n",
      "W0818 17:12:50.077580  8112 deprecation.py:506] From C:\\Users\\Himalaya\\Anaconda3\\envs\\hello-tf\\lib\\site-packages\\tensorflow\\python\\ops\\rnn_cell_impl.py:459: calling Zeros.__init__ (from tensorflow.python.ops.init_ops) with dtype is deprecated and will be removed in a future version.\n",
      "Instructions for updating:\n",
      "Call initializer instance with the dtype argument instead of passing it to the constructor\n",
      "W0818 17:12:50.202551  8112 deprecation.py:323] From <ipython-input-34-2ee99865daaa>:30: dense (from tensorflow.python.layers.core) is deprecated and will be removed in a future version.\n",
      "Instructions for updating:\n",
      "Use keras.layers.dense instead.\n"
     ]
    },
    {
     "name": "stdout",
     "output_type": "stream",
     "text": [
      "Iteration 1 Random Seed 9999 Learning Rate 0.01 Vocabulary Size 10000 Train accuracy 1.0 Test accuracy = 0.56\n",
      "Iteration 1 Random Seed 9999 Learning Rate 0.001 Vocabulary Size 10000 Train accuracy 0.8 Test accuracy = 0.68\n",
      "Iteration 1 Random Seed 9999 Learning Rate 0.01 Vocabulary Size 20000 Train accuracy 1.0 Test accuracy = 0.56\n",
      "Iteration 1 Random Seed 9999 Learning Rate 0.001 Vocabulary Size 20000 Train accuracy 0.8 Test accuracy = 0.68\n",
      "Iteration 1 Random Seed 64 Learning Rate 0.01 Vocabulary Size 10000 Train accuracy 0.95 Test accuracy = 0.59\n",
      "Iteration 1 Random Seed 64 Learning Rate 0.001 Vocabulary Size 10000 Train accuracy 0.72 Test accuracy = 0.67\n",
      "Iteration 1 Random Seed 64 Learning Rate 0.01 Vocabulary Size 20000 Train accuracy 0.95 Test accuracy = 0.59\n",
      "Iteration 1 Random Seed 64 Learning Rate 0.001 Vocabulary Size 20000 Train accuracy 0.72 Test accuracy = 0.67\n",
      "Iteration 2 Random Seed 9999 Learning Rate 0.01 Vocabulary Size 10000 Train accuracy 1.0 Test accuracy = 0.56\n",
      "Iteration 2 Random Seed 9999 Learning Rate 0.001 Vocabulary Size 10000 Train accuracy 0.8 Test accuracy = 0.68\n",
      "Iteration 2 Random Seed 9999 Learning Rate 0.01 Vocabulary Size 20000 Train accuracy 1.0 Test accuracy = 0.56\n",
      "Iteration 2 Random Seed 9999 Learning Rate 0.001 Vocabulary Size 20000 Train accuracy 0.8 Test accuracy = 0.68\n",
      "Iteration 2 Random Seed 64 Learning Rate 0.01 Vocabulary Size 10000 Train accuracy 0.95 Test accuracy = 0.59\n",
      "Iteration 2 Random Seed 64 Learning Rate 0.001 Vocabulary Size 10000 Train accuracy 0.72 Test accuracy = 0.67\n",
      "Iteration 2 Random Seed 64 Learning Rate 0.01 Vocabulary Size 20000 Train accuracy 0.95 Test accuracy = 0.59\n",
      "Iteration 2 Random Seed 64 Learning Rate 0.001 Vocabulary Size 20000 Train accuracy 0.72 Test accuracy = 0.67\n"
     ]
    }
   ],
   "source": [
    "df_basic_50d = pd.DataFrame(columns = ['RNN', 'Word Vector', 'Iteration', 'Random Seed','Learning Rate', 'Vocabulary Size', 'Train Accuracy', 'Test Accuracy'])\n",
    "RANDOM_SEEDS = [9999, 9999, 9999, 9999, 64, 64, 64, 64]\n",
    "Learn_Rate = [.01, .001, .01, .001, .01, .001, .01, .001]\n",
    "VOCAB_SIZE = [10000, 10000, 20000, 20000, 10000, 10000, 20000, 20000]  # specify desired size of pre-defined embedding vocabulary \n",
    "#Epochs = [30, 50]\n",
    "#Batch = [100, 200]\n",
    "z = 1\n",
    "while z <= 2:\n",
    "    for a, b, c in zip(RANDOM_SEEDS, Learn_Rate, VOCAB_SIZE):\n",
    "        EVOCABSIZE = c\n",
    "        RANDOM_SEED = a\n",
    "            # Random splitting of the data in to training (80%) and test (20%)  \n",
    "        X_train, X_test, y_train, y_test = train_test_split(embeddings_array, thumbs_down_up, test_size=0.20, \n",
    "                                                            random_state = RANDOM_SEED)\n",
    "        reset_graph()\n",
    "\n",
    "        n_steps = embeddings_array.shape[1]  # number of words per document \n",
    "        n_inputs = embeddings_array.shape[2]  # dimension of  pre-trained embeddings\n",
    "        n_neurons = 20  # analyst specified number of neurons\n",
    "        n_outputs = 2  # thumbs-down or thumbs-up\n",
    "\n",
    "        learning_rate = b\n",
    "\n",
    "        X = tf.placeholder(tf.float32, [None, n_steps, n_inputs])\n",
    "        y = tf.placeholder(tf.int32, [None])\n",
    "\n",
    "        basic_cell = tf.contrib.rnn.BasicRNNCell(num_units=n_neurons)\n",
    "        outputs, states = tf.nn.dynamic_rnn(basic_cell, X, dtype=tf.float32)\n",
    "\n",
    "        logits = tf.layers.dense(states, n_outputs)\n",
    "        xentropy = tf.nn.sparse_softmax_cross_entropy_with_logits(labels=y,\n",
    "                                                                  logits=logits)\n",
    "        loss = tf.reduce_mean(xentropy)\n",
    "        optimizer = tf.train.AdamOptimizer(learning_rate=learning_rate)\n",
    "        training_op = optimizer.minimize(loss)\n",
    "        correct = tf.nn.in_top_k(logits, y, 1)\n",
    "        accuracy = tf.reduce_mean(tf.cast(correct, tf.float32))\n",
    "\n",
    "        init = tf.global_variables_initializer()\n",
    "\n",
    "        n_epochs = 50\n",
    "        batch_size = 100\n",
    "        start_time = time.time()\n",
    "\n",
    "        with tf.Session() as sess:\n",
    "            init.run()\n",
    "            for epoch in range(n_epochs):\n",
    "                #print('\\n  ---- Epoch ', epoch, ' ----\\n')\n",
    "                for iteration in range(y_train.shape[0] // batch_size):          \n",
    "                    X_batch = X_train[iteration*batch_size:(iteration + 1)*batch_size,:]\n",
    "                    y_batch = y_train[iteration*batch_size:(iteration + 1)*batch_size]\n",
    "                    #print('  Batch ', iteration, ' training observations from ',  \n",
    "                          #iteration*batch_size, ' to ', (iteration + 1)*batch_size-1,)\n",
    "                    sess.run(training_op, feed_dict={X: X_batch, y: y_batch})\n",
    "                acc_train = accuracy.eval(feed_dict={X: X_batch, y: y_batch})\n",
    "                acc_test = accuracy.eval(feed_dict={X: X_test, y: y_test})\n",
    "                #print(\"Epoch\", epoch, \"Train accuracy =\", acc_train, \"Test accuracy =\", acc_test)\n",
    "            print(\"Iteration\", z, \"Random Seed\", a, \"Learning Rate\", b, \"Vocabulary Size\", c, \"Train accuracy\", acc_train, \"Test accuracy =\", acc_test)\n",
    "        end_time = time.time()\n",
    "        run_time = end_time-start_time\n",
    "        run_time\n",
    "        \n",
    "        result = ({'RNN': 'Basic', 'Word Vector': 'Glove 50d', 'Iteration': z, 'Random Seed': a, 'Learning Rate': b, 'Vocabulary Size': c, 'Train Accuracy': acc_train, 'Test Accuracy': acc_test})\n",
    "\n",
    "        df_basic_50d = df_basic_50d.append(result, ignore_index=True)\n",
    "        \n",
    "        #results_frame = pd.DataFrame(result)\n",
    "        #print(results_frame)\n",
    "        #data = pd.DataFrame({'RNN': \"Basic\"}, {'Word Vector': \"Glove 50d\"}, {'Iteration': z}, {'Random Seed': a}, {'Learning Rate': b}, {'Vocab Size': c}, {'Train Accuracy': acc_train}, {'Test Accuracy': acc_test})\n",
    "\n",
    "    z = z + 1"
   ]
  },
  {
   "cell_type": "markdown",
   "metadata": {},
   "source": [
    "## LSTM Glove 50d"
   ]
  },
  {
   "cell_type": "code",
   "execution_count": 35,
   "metadata": {
    "scrolled": false
   },
   "outputs": [
    {
     "name": "stderr",
     "output_type": "stream",
     "text": [
      "W0818 17:13:27.534057  8112 deprecation.py:323] From <ipython-input-35-51280e2e0852>:19: LSTMCell.__init__ (from tensorflow.python.ops.rnn_cell_impl) is deprecated and will be removed in a future version.\n",
      "Instructions for updating:\n",
      "This class is equivalent as tf.keras.layers.LSTMCell, and will be replaced by that in Tensorflow 2.0.\n",
      "W0818 17:13:27.534057  8112 deprecation.py:323] From <ipython-input-35-51280e2e0852>:34: MultiRNNCell.__init__ (from tensorflow.python.ops.rnn_cell_impl) is deprecated and will be removed in a future version.\n",
      "Instructions for updating:\n",
      "This class is equivalent as tf.keras.layers.StackedRNNCells, and will be replaced by that in Tensorflow 2.0.\n"
     ]
    },
    {
     "name": "stdout",
     "output_type": "stream",
     "text": [
      "Iteration 1 Random Seed 9999 Learning Rate 0.01 Vocabulary Size 10000 Train accuracy 1.0 Test accuracy = 0.73\n",
      "Iteration 1 Random Seed 9999 Learning Rate 0.001 Vocabulary Size 10000 Train accuracy 0.79 Test accuracy = 0.67\n",
      "Iteration 1 Random Seed 9999 Learning Rate 0.01 Vocabulary Size 20000 Train accuracy 1.0 Test accuracy = 0.73\n",
      "Iteration 1 Random Seed 9999 Learning Rate 0.001 Vocabulary Size 20000 Train accuracy 0.79 Test accuracy = 0.67\n",
      "Iteration 1 Random Seed 64 Learning Rate 0.01 Vocabulary Size 10000 Train accuracy 1.0 Test accuracy = 0.68\n",
      "Iteration 1 Random Seed 64 Learning Rate 0.001 Vocabulary Size 10000 Train accuracy 0.91 Test accuracy = 0.69\n",
      "Iteration 1 Random Seed 64 Learning Rate 0.01 Vocabulary Size 20000 Train accuracy 1.0 Test accuracy = 0.68\n",
      "Iteration 1 Random Seed 64 Learning Rate 0.001 Vocabulary Size 20000 Train accuracy 0.91 Test accuracy = 0.69\n",
      "Iteration 2 Random Seed 9999 Learning Rate 0.01 Vocabulary Size 10000 Train accuracy 1.0 Test accuracy = 0.73\n",
      "Iteration 2 Random Seed 9999 Learning Rate 0.001 Vocabulary Size 10000 Train accuracy 0.79 Test accuracy = 0.67\n",
      "Iteration 2 Random Seed 9999 Learning Rate 0.01 Vocabulary Size 20000 Train accuracy 1.0 Test accuracy = 0.73\n",
      "Iteration 2 Random Seed 9999 Learning Rate 0.001 Vocabulary Size 20000 Train accuracy 0.79 Test accuracy = 0.67\n",
      "Iteration 2 Random Seed 64 Learning Rate 0.01 Vocabulary Size 10000 Train accuracy 1.0 Test accuracy = 0.68\n",
      "Iteration 2 Random Seed 64 Learning Rate 0.001 Vocabulary Size 10000 Train accuracy 0.91 Test accuracy = 0.69\n",
      "Iteration 2 Random Seed 64 Learning Rate 0.01 Vocabulary Size 20000 Train accuracy 1.0 Test accuracy = 0.68\n",
      "Iteration 2 Random Seed 64 Learning Rate 0.001 Vocabulary Size 20000 Train accuracy 0.91 Test accuracy = 0.69\n"
     ]
    }
   ],
   "source": [
    "df_LTSM_50d = pd.DataFrame(columns = ['RNN', 'Word Vector', 'Iteration', 'Random Seed','Learning Rate', 'Vocabulary Size', 'Train Accuracy', 'Test Accuracy'])\n",
    "\n",
    "RANDOM_SEEDS = [9999, 9999, 9999, 9999, 64, 64, 64, 64]\n",
    "Learn_Rate = [.01, .001, .01, .001, .01, .001, .01, .001]\n",
    "VOCAB_SIZE = [10000, 10000, 20000, 20000, 10000, 10000, 20000, 20000]  # specify desired size of pre-defined embedding vocabulary \n",
    "#Epochs = [30, 50]\n",
    "#Batch = [100, 200]\n",
    "z = 1\n",
    "while z <= 2:\n",
    "    for a, b, c in zip(RANDOM_SEEDS, Learn_Rate, VOCAB_SIZE):\n",
    "        EVOCABSIZE = c\n",
    "        RANDOM_SEED = a\n",
    "            # Random splitting of the data in to training (80%) and test (20%)  \n",
    "        X_train, X_test, y_train, y_test = train_test_split(embeddings_array, thumbs_down_up, test_size=0.20, \n",
    "                                                            random_state = RANDOM_SEED)\n",
    "\n",
    "        reset_graph()\n",
    "\n",
    "        lstm_cell = tf.compat.v1.nn.rnn_cell.LSTMCell(num_units=n_neurons)\n",
    "\n",
    "        n_steps = embeddings_array.shape[1]  # number of words per document \n",
    "        n_inputs = embeddings_array.shape[2]  # dimension of  pre-trained embeddings\n",
    "        n_neurons = 20  # analyst specified number of neurons\n",
    "        n_outputs = 2  # thumbs-down or thumbs-up\n",
    "        n_layers = 3\n",
    "\n",
    "        learning_rate = b\n",
    "\n",
    "        X = tf.placeholder(tf.float32, [None, n_steps, n_inputs])\n",
    "        y = tf.placeholder(tf.int32, [None])\n",
    "\n",
    "        lstm_cells = [tf.compat.v1.nn.rnn_cell.LSTMCell(num_units=n_neurons)\n",
    "                      for layer in range(n_layers)]\n",
    "        multi_cell = tf.nn.rnn_cell.MultiRNNCell(lstm_cells)\n",
    "        outputs, states = tf.nn.dynamic_rnn(multi_cell, X, dtype=tf.float32)\n",
    "        top_layer_h_state = states[-1][1]\n",
    "        logits = tf.layers.dense(top_layer_h_state, n_outputs, name=\"softmax\")\n",
    "        xentropy = tf.nn.sparse_softmax_cross_entropy_with_logits(labels=y, logits=logits)\n",
    "        loss = tf.reduce_mean(xentropy, name=\"loss\")\n",
    "        optimizer = tf.train.AdamOptimizer(learning_rate=learning_rate)\n",
    "        training_op = optimizer.minimize(loss)\n",
    "        correct = tf.nn.in_top_k(logits, y, 1)\n",
    "        accuracy = tf.reduce_mean(tf.cast(correct, tf.float32))\n",
    "\n",
    "        init = tf.global_variables_initializer()\n",
    "\n",
    "        n_epochs = 50\n",
    "        batch_size = 100\n",
    "        start_time = time.time()\n",
    "\n",
    "        with tf.Session() as sess:\n",
    "            init.run()\n",
    "            for epoch in range(n_epochs):\n",
    "                for iteration in range(y_train.shape[0] // batch_size):          \n",
    "                    X_batch = X_train[iteration*batch_size:(iteration + 1)*batch_size,:]\n",
    "                    y_batch = y_train[iteration*batch_size:(iteration + 1)*batch_size]\n",
    "\n",
    "                    sess.run(training_op, feed_dict={X: X_batch, y: y_batch})\n",
    "                acc_train = accuracy.eval(feed_dict={X: X_batch, y: y_batch})\n",
    "                acc_test = accuracy.eval(feed_dict={X: X_test, y: y_test})\n",
    "            #print(\"Epoch\", epoch, \"Train accuracy =\", acc_train, \"Test accuracy =\", acc_test)\n",
    "        print(\"Iteration\", z, \"Random Seed\", a, \"Learning Rate\", b, \"Vocabulary Size\", c, \"Train accuracy\", acc_train, \"Test accuracy =\", acc_test)\n",
    "        end_time = time.time()\n",
    "        run_time = end_time-start_time\n",
    "        run_time\n",
    "    \n",
    "        result = ({'RNN': 'LTSM', 'Word Vector': 'Glove 50d', 'Iteration': z, 'Random Seed': a, 'Learning Rate': b, 'Vocabulary Size': c, 'Train Accuracy': acc_train, 'Test Accuracy': acc_test})\n",
    "        df_LTSM_50d = df_LTSM_50d.append(result, ignore_index=True)\n",
    "\n",
    "    z = z + 1"
   ]
  },
  {
   "cell_type": "markdown",
   "metadata": {},
   "source": [
    "## Using Dropout With Basic RNN and Glove 50d"
   ]
  },
  {
   "cell_type": "code",
   "execution_count": 36,
   "metadata": {
    "scrolled": false
   },
   "outputs": [
    {
     "name": "stdout",
     "output_type": "stream",
     "text": [
      "Iteration 1 Random Seed 9999 Learning Rate 0.01 Vocabulary Size 10000 Train accuracy 0.73 Test accuracy = 0.635\n",
      "Iteration 1 Random Seed 9999 Learning Rate 0.001 Vocabulary Size 10000 Train accuracy 0.59 Test accuracy = 0.53\n",
      "Iteration 1 Random Seed 9999 Learning Rate 0.01 Vocabulary Size 20000 Train accuracy 0.69 Test accuracy = 0.62\n",
      "Iteration 1 Random Seed 9999 Learning Rate 0.001 Vocabulary Size 20000 Train accuracy 0.59 Test accuracy = 0.535\n",
      "Iteration 1 Random Seed 64 Learning Rate 0.01 Vocabulary Size 10000 Train accuracy 0.72 Test accuracy = 0.62\n",
      "Iteration 1 Random Seed 64 Learning Rate 0.001 Vocabulary Size 10000 Train accuracy 0.63 Test accuracy = 0.58\n",
      "Iteration 1 Random Seed 64 Learning Rate 0.01 Vocabulary Size 20000 Train accuracy 0.62 Test accuracy = 0.575\n",
      "Iteration 1 Random Seed 64 Learning Rate 0.001 Vocabulary Size 20000 Train accuracy 0.65 Test accuracy = 0.585\n",
      "Iteration 2 Random Seed 9999 Learning Rate 0.01 Vocabulary Size 10000 Train accuracy 0.62 Test accuracy = 0.645\n",
      "Iteration 2 Random Seed 9999 Learning Rate 0.001 Vocabulary Size 10000 Train accuracy 0.6 Test accuracy = 0.55\n",
      "Iteration 2 Random Seed 9999 Learning Rate 0.01 Vocabulary Size 20000 Train accuracy 0.68 Test accuracy = 0.535\n",
      "Iteration 2 Random Seed 9999 Learning Rate 0.001 Vocabulary Size 20000 Train accuracy 0.59 Test accuracy = 0.545\n",
      "Iteration 2 Random Seed 64 Learning Rate 0.01 Vocabulary Size 10000 Train accuracy 0.73 Test accuracy = 0.635\n",
      "Iteration 2 Random Seed 64 Learning Rate 0.001 Vocabulary Size 10000 Train accuracy 0.68 Test accuracy = 0.575\n",
      "Iteration 2 Random Seed 64 Learning Rate 0.01 Vocabulary Size 20000 Train accuracy 0.76 Test accuracy = 0.595\n",
      "Iteration 2 Random Seed 64 Learning Rate 0.001 Vocabulary Size 20000 Train accuracy 0.68 Test accuracy = 0.605\n"
     ]
    }
   ],
   "source": [
    "df_Dropout_50d = pd.DataFrame(columns = ['RNN', 'Word Vector', 'Iteration', 'Random Seed','Learning Rate', 'Vocabulary Size', 'Train Accuracy', 'Test Accuracy'])\n",
    "\n",
    "RANDOM_SEEDS = [9999, 9999, 9999, 9999, 64, 64, 64, 64]\n",
    "Learn_Rate = [.01, .001, .01, .001, .01, .001, .01, .001]\n",
    "VOCAB_SIZE = [10000, 10000, 20000, 20000, 10000, 10000, 20000, 20000]  # specify desired size of pre-defined embedding vocabulary \n",
    "#Epochs = [30, 50]\n",
    "#Batch = [100, 200]\n",
    "z = 1\n",
    "while z <= 2:\n",
    "    for a, b, c in zip(RANDOM_SEEDS, Learn_Rate, VOCAB_SIZE):\n",
    "        EVOCABSIZE = c\n",
    "        RANDOM_SEED = a\n",
    "            # Random splitting of the data in to training (80%) and test (20%)  \n",
    "        X_train, X_test, y_train, y_test = train_test_split(embeddings_array, thumbs_down_up, test_size=0.20, \n",
    "                                                            random_state = RANDOM_SEED)\n",
    "        reset_graph()\n",
    "\n",
    "        n_steps = embeddings_array.shape[1]  # number of words per document \n",
    "        n_inputs = embeddings_array.shape[2]  # dimension of  pre-trained embeddings\n",
    "        n_neurons = 20  # analyst specified number of neurons\n",
    "        n_outputs = 2  # thumbs-down or thumbs-up\n",
    "        n_layers = 3\n",
    "\n",
    "        learning_rate = b\n",
    "\n",
    "        X = tf.placeholder(tf.float32, [None, n_steps, n_inputs])\n",
    "        y = tf.placeholder(tf.int32, [None])\n",
    "\n",
    "        keep_prob = tf.placeholder_with_default(.5, shape=())\n",
    "        cells = [tf.contrib.rnn.BasicRNNCell(num_units=n_neurons)\n",
    "                 for layer in range(n_layers)]\n",
    "        cells_drop = [tf.contrib.rnn.DropoutWrapper(cell, input_keep_prob=keep_prob)\n",
    "                      for cell in cells]\n",
    "        multi_layer_cell = tf.contrib.rnn.MultiRNNCell(cells_drop)\n",
    "        outputs, states = tf.nn.dynamic_rnn(multi_layer_cell, X, dtype=tf.float32)\n",
    "\n",
    "        states_concat = tf.concat(axis=1, values=states)\n",
    "        logits = tf.layers.dense(states_concat, n_outputs)\n",
    "        xentropy = tf.nn.sparse_softmax_cross_entropy_with_logits(labels=y, logits=logits)\n",
    "        loss = tf.reduce_mean(xentropy)\n",
    "        optimizer = tf.train.AdamOptimizer(learning_rate=learning_rate)\n",
    "        training_op = optimizer.minimize(loss)\n",
    "        correct = tf.nn.in_top_k(logits, y, 1)\n",
    "        accuracy = tf.reduce_mean(tf.cast(correct, tf.float32))\n",
    "\n",
    "        init = tf.global_variables_initializer()\n",
    "\n",
    "        n_epochs = 50\n",
    "        batch_size = 100\n",
    "        train_keep_prob = 0.5\n",
    "        start_time = time.time()\n",
    "        with tf.Session() as sess:\n",
    "            init.run()\n",
    "            for epoch in range(n_epochs):\n",
    "                for iteration in range(y_train.shape[0] // batch_size):\n",
    "                    X_batch = X_train[iteration*batch_size:(iteration + 1)*batch_size,:]\n",
    "                    y_batch = y_train[iteration*batch_size:(iteration + 1)*batch_size]\n",
    "                    X_batch = X_batch.reshape((-1, n_steps, n_inputs))\n",
    "                    sess.run(training_op, feed_dict={X: X_batch, y: y_batch,keep_prob: train_keep_prob})\n",
    "                acc_train = accuracy.eval(feed_dict={X: X_batch, y: y_batch})\n",
    "                acc_test = accuracy.eval(feed_dict={X: X_test, y: y_test})\n",
    "            print(\"Iteration\", z, \"Random Seed\", a, \"Learning Rate\", b, \"Vocabulary Size\", c, \"Train accuracy\", acc_train, \"Test accuracy =\", acc_test)\n",
    "        \n",
    "        end_time = time.time()\n",
    "        run_time = end_time-start_time\n",
    "        run_time\n",
    "        \n",
    "        result = ({'RNN': 'Dropout', 'Word Vector': 'Glove 50d', 'Iteration': z, 'Random Seed': a, 'Learning Rate': b, 'Vocabulary Size': c, 'Train Accuracy': acc_train, 'Test Accuracy': acc_test})\n",
    "        df_Dropout_50d = df_Dropout_50d.append(result, ignore_index=True)\n",
    "    z = z + 1\n",
    "    \n"
   ]
  },
  {
   "cell_type": "markdown",
   "metadata": {},
   "source": [
    "# Using GloVe.6B.300d"
   ]
  },
  {
   "cell_type": "code",
   "execution_count": 37,
   "metadata": {},
   "outputs": [
    {
     "name": "stdout",
     "output_type": "stream",
     "text": [
      "Embeddings already downloaded.\n",
      "Embeddings already extracted.\n",
      "\n",
      "Run complete\n"
     ]
    }
   ],
   "source": [
    "CHAKIN_INDEX = 21\n",
    "NUMBER_OF_DIMENSIONS = 300\n",
    "SUBFOLDER_NAME = \"glove.6B\"\n",
    "\n",
    "DATA_FOLDER = \"embeddings\"\n",
    "ZIP_FILE = os.path.join(DATA_FOLDER, \"{}.zip\".format(SUBFOLDER_NAME))\n",
    "ZIP_FILE_ALT = \"glove\" + ZIP_FILE[5:]  # sometimes it's lowercase only...\n",
    "UNZIP_FOLDER = os.path.join(DATA_FOLDER, SUBFOLDER_NAME)\n",
    "if SUBFOLDER_NAME[-1] == \"d\":\n",
    "    GLOVE_FILENAME = os.path.join(\n",
    "        UNZIP_FOLDER, \"{}.txt\".format(SUBFOLDER_NAME))\n",
    "else:\n",
    "    GLOVE_FILENAME = os.path.join(UNZIP_FOLDER, \"{}.{}d.txt\".format(\n",
    "        SUBFOLDER_NAME, NUMBER_OF_DIMENSIONS))\n",
    "    \n",
    "if not os.path.exists(ZIP_FILE) and not os.path.exists(UNZIP_FOLDER):\n",
    "    print(\"Downloading embeddings to '{}'\".format(ZIP_FILE))\n",
    "    chakin.download(number=CHAKIN_INDEX, save_dir='./{}'.format(DATA_FOLDER))\n",
    "else:\n",
    "    print(\"Embeddings already downloaded.\")\n",
    "\n",
    "if not os.path.exists(UNZIP_FOLDER):\n",
    "    import zipfile\n",
    "    if not os.path.exists(ZIP_FILE) and os.path.exists(ZIP_FILE_ALT):\n",
    "        ZIP_FILE = ZIP_FILE_ALT\n",
    "    with zipfile.ZipFile(ZIP_FILE, \"r\") as zip_ref:\n",
    "        print(\"Extracting embeddings to '{}'\".format(UNZIP_FOLDER))\n",
    "        zip_ref.extractall(UNZIP_FOLDER)\n",
    "else:\n",
    "    print(\"Embeddings already extracted.\")\n",
    "\n",
    "print('\\nRun complete')"
   ]
  },
  {
   "cell_type": "code",
   "execution_count": 38,
   "metadata": {},
   "outputs": [],
   "source": [
    "REMOVE_STOPWORDS = False\n",
    "#EVOCABSIZE = 100000  # specify desired size of pre-defined embedding vocabulary "
   ]
  },
  {
   "cell_type": "code",
   "execution_count": 39,
   "metadata": {},
   "outputs": [],
   "source": [
    "# Select the pre-defined embeddings source        \n",
    "# Define vocabulary size for the language model    \n",
    "# Create a word_to_embedding_dict for GloVe.6B.50d\n",
    "embeddings_directory = 'embeddings/gloVe.6B'\n",
    "filename = 'glove.6B.300d.txt'\n",
    "embeddings_filename = os.path.join(embeddings_directory, filename)"
   ]
  },
  {
   "cell_type": "code",
   "execution_count": 40,
   "metadata": {},
   "outputs": [
    {
     "name": "stdout",
     "output_type": "stream",
     "text": [
      "\n",
      "Loading embeddings from embeddings/gloVe.6B\\glove.6B.300d.txt\n",
      "Embedding loaded from disks.\n"
     ]
    }
   ],
   "source": [
    "print('\\nLoading embeddings from', embeddings_filename)\n",
    "word_to_index, index_to_embedding = \\\n",
    "    load_embedding_from_disks(embeddings_filename, with_indexes=True)\n",
    "print(\"Embedding loaded from disks.\")"
   ]
  },
  {
   "cell_type": "code",
   "execution_count": 41,
   "metadata": {},
   "outputs": [],
   "source": [
    "del index_to_embedding"
   ]
  },
  {
   "cell_type": "code",
   "execution_count": 42,
   "metadata": {},
   "outputs": [],
   "source": [
    "# create list of lists of lists for embeddings\n",
    "embeddings = []    \n",
    "for doc in documents:\n",
    "    embedding = []\n",
    "    for word in doc:\n",
    "       embedding.append(limited_index_to_embedding[limited_word_to_index[word]]) \n",
    "    embeddings.append(embedding)"
   ]
  },
  {
   "cell_type": "code",
   "execution_count": null,
   "metadata": {},
   "outputs": [],
   "source": []
  },
  {
   "cell_type": "code",
   "execution_count": 43,
   "metadata": {},
   "outputs": [
    {
     "data": {
      "text/plain": [
       "1000"
      ]
     },
     "execution_count": 43,
     "metadata": {},
     "output_type": "execute_result"
    }
   ],
   "source": [
    "len(embeddings)"
   ]
  },
  {
   "cell_type": "code",
   "execution_count": 44,
   "metadata": {},
   "outputs": [],
   "source": [
    "embeddings_array = np.array(embeddings)"
   ]
  },
  {
   "cell_type": "code",
   "execution_count": 45,
   "metadata": {},
   "outputs": [
    {
     "data": {
      "text/plain": [
       "(1000, 40, 50)"
      ]
     },
     "execution_count": 45,
     "metadata": {},
     "output_type": "execute_result"
    }
   ],
   "source": [
    "embeddings_array.shape"
   ]
  },
  {
   "cell_type": "code",
   "execution_count": 46,
   "metadata": {},
   "outputs": [],
   "source": [
    "thumbs_down_up = np.concatenate((np.zeros((500), dtype = np.int32), \n",
    "                      np.ones((500), dtype = np.int32)), axis = 0)"
   ]
  },
  {
   "cell_type": "code",
   "execution_count": 47,
   "metadata": {},
   "outputs": [
    {
     "data": {
      "text/plain": [
       "(800, 40, 50)"
      ]
     },
     "execution_count": 47,
     "metadata": {},
     "output_type": "execute_result"
    }
   ],
   "source": [
    "X_train.shape"
   ]
  },
  {
   "cell_type": "markdown",
   "metadata": {},
   "source": [
    "## Basic RNN, word vector 300d"
   ]
  },
  {
   "cell_type": "code",
   "execution_count": 48,
   "metadata": {
    "scrolled": false
   },
   "outputs": [
    {
     "name": "stdout",
     "output_type": "stream",
     "text": [
      "Iteration 1 Random Seed 9999 Learning Rate 0.01 Vocabulary Size 10000 Train accuracy 1.0 Test accuracy = 0.56\n",
      "Iteration 1 Random Seed 9999 Learning Rate 0.001 Vocabulary Size 10000 Train accuracy 0.8 Test accuracy = 0.68\n",
      "Iteration 1 Random Seed 9999 Learning Rate 0.01 Vocabulary Size 20000 Train accuracy 1.0 Test accuracy = 0.56\n",
      "Iteration 1 Random Seed 9999 Learning Rate 0.001 Vocabulary Size 20000 Train accuracy 0.8 Test accuracy = 0.68\n",
      "Iteration 1 Random Seed 64 Learning Rate 0.01 Vocabulary Size 10000 Train accuracy 0.95 Test accuracy = 0.59\n",
      "Iteration 1 Random Seed 64 Learning Rate 0.001 Vocabulary Size 10000 Train accuracy 0.72 Test accuracy = 0.67\n",
      "Iteration 1 Random Seed 64 Learning Rate 0.01 Vocabulary Size 20000 Train accuracy 0.95 Test accuracy = 0.59\n",
      "Iteration 1 Random Seed 64 Learning Rate 0.001 Vocabulary Size 20000 Train accuracy 0.72 Test accuracy = 0.67\n",
      "Iteration 2 Random Seed 9999 Learning Rate 0.01 Vocabulary Size 10000 Train accuracy 1.0 Test accuracy = 0.56\n",
      "Iteration 2 Random Seed 9999 Learning Rate 0.001 Vocabulary Size 10000 Train accuracy 0.8 Test accuracy = 0.68\n",
      "Iteration 2 Random Seed 9999 Learning Rate 0.01 Vocabulary Size 20000 Train accuracy 1.0 Test accuracy = 0.56\n",
      "Iteration 2 Random Seed 9999 Learning Rate 0.001 Vocabulary Size 20000 Train accuracy 0.8 Test accuracy = 0.68\n",
      "Iteration 2 Random Seed 64 Learning Rate 0.01 Vocabulary Size 10000 Train accuracy 0.95 Test accuracy = 0.59\n",
      "Iteration 2 Random Seed 64 Learning Rate 0.001 Vocabulary Size 10000 Train accuracy 0.72 Test accuracy = 0.67\n",
      "Iteration 2 Random Seed 64 Learning Rate 0.01 Vocabulary Size 20000 Train accuracy 0.95 Test accuracy = 0.59\n",
      "Iteration 2 Random Seed 64 Learning Rate 0.001 Vocabulary Size 20000 Train accuracy 0.72 Test accuracy = 0.67\n"
     ]
    }
   ],
   "source": [
    "df_basic_300d = pd.DataFrame(columns = ['RNN', 'Word Vector', 'Iteration', 'Random Seed','Learning Rate', 'Vocabulary Size', 'Train Accuracy', 'Test Accuracy'])\n",
    "\n",
    "RANDOM_SEEDS = [9999, 9999, 9999, 9999, 64, 64, 64, 64]\n",
    "Learn_Rate = [.01, .001, .01, .001, .01, .001, .01, .001]\n",
    "VOCAB_SIZE = [10000, 10000, 20000, 20000, 10000, 10000, 20000, 20000]  # specify desired size of pre-defined embedding vocabulary \n",
    "#Epochs = [30, 50]\n",
    "#Batch = [100, 200]\n",
    "\n",
    "z = 1\n",
    "while z <= 2:\n",
    "    for a, b, c in zip(RANDOM_SEEDS, Learn_Rate, VOCAB_SIZE):\n",
    "        EVOCABSIZE = c\n",
    "        RANDOM_SEED = a\n",
    "            # Random splitting of the data in to training (80%) and test (20%)  \n",
    "        X_train, X_test, y_train, y_test = train_test_split(embeddings_array, thumbs_down_up, test_size=0.20, \n",
    "                                                            random_state = RANDOM_SEED)\n",
    "\n",
    "        reset_graph()\n",
    "\n",
    "        n_steps = embeddings_array.shape[1]  # number of words per document \n",
    "        n_inputs = embeddings_array.shape[2]  # dimension of  pre-trained embeddings\n",
    "        n_neurons = 20  # analyst specified number of neurons\n",
    "        n_outputs = 2  # thumbs-down or thumbs-up\n",
    "\n",
    "        learning_rate = b\n",
    "\n",
    "        X = tf.placeholder(tf.float32, [None, n_steps, n_inputs])\n",
    "        y = tf.placeholder(tf.int32, [None])\n",
    "\n",
    "        basic_cell = tf.contrib.rnn.BasicRNNCell(num_units=n_neurons)\n",
    "        outputs, states = tf.nn.dynamic_rnn(basic_cell, X, dtype=tf.float32)\n",
    "\n",
    "        logits = tf.layers.dense(states, n_outputs)\n",
    "        xentropy = tf.nn.sparse_softmax_cross_entropy_with_logits(labels=y,\n",
    "                                                                  logits=logits)\n",
    "        loss = tf.reduce_mean(xentropy)\n",
    "        optimizer = tf.train.AdamOptimizer(learning_rate=learning_rate)\n",
    "        training_op = optimizer.minimize(loss)\n",
    "        correct = tf.nn.in_top_k(logits, y, 1)\n",
    "        accuracy = tf.reduce_mean(tf.cast(correct, tf.float32))\n",
    "\n",
    "        init = tf.global_variables_initializer()\n",
    "\n",
    "        n_epochs = 50\n",
    "        batch_size = 100\n",
    "        start_time = time.time()\n",
    "        with tf.Session() as sess:\n",
    "            init.run()\n",
    "            for epoch in range(n_epochs):\n",
    "                #print('\\n  ---- Epoch ', epoch, ' ----\\n')\n",
    "                for iteration in range(y_train.shape[0] // batch_size):          \n",
    "                    X_batch = X_train[iteration*batch_size:(iteration + 1)*batch_size,:]\n",
    "                    y_batch = y_train[iteration*batch_size:(iteration + 1)*batch_size]\n",
    "                    #print('  Batch ', iteration, ' training observations from ',  \n",
    "                          #iteration*batch_size, ' to ', (iteration + 1)*batch_size-1,)\n",
    "                    sess.run(training_op, feed_dict={X: X_batch, y: y_batch})\n",
    "                acc_train = accuracy.eval(feed_dict={X: X_batch, y: y_batch})\n",
    "                acc_test = accuracy.eval(feed_dict={X: X_test, y: y_test})\n",
    "            print(\"Iteration\", z, \"Random Seed\", a, \"Learning Rate\", b, \"Vocabulary Size\", c, \"Train accuracy\", acc_train, \"Test accuracy =\", acc_test)\n",
    "\n",
    "        end_time = time.time()\n",
    "        run_time = end_time-start_time\n",
    "        run_time\n",
    "        \n",
    "        result = ({'RNN': 'Basic', 'Word Vector': 'Glove 300d', 'Iteration': z, 'Random Seed': a, 'Learning Rate': b, 'Vocabulary Size': c, 'Train Accuracy': acc_train, 'Test Accuracy': acc_test})\n",
    "        df_basic_300d = df_basic_300d.append(result, ignore_index=True)\n",
    "    z = z + 1"
   ]
  },
  {
   "cell_type": "markdown",
   "metadata": {},
   "source": [
    "## LSTM RNN, word vector 300d Learning Rate"
   ]
  },
  {
   "cell_type": "code",
   "execution_count": 49,
   "metadata": {
    "scrolled": false
   },
   "outputs": [
    {
     "name": "stdout",
     "output_type": "stream",
     "text": [
      "Iteration 1 Random Seed 9999 Learning Rate 0.01 Vocabulary Size 10000 Train accuracy 0.99 Test accuracy = 0.7\n",
      "Iteration 1 Random Seed 9999 Learning Rate 0.001 Vocabulary Size 10000 Train accuracy 0.825 Test accuracy = 0.725\n",
      "Iteration 1 Random Seed 9999 Learning Rate 0.01 Vocabulary Size 20000 Train accuracy 0.99 Test accuracy = 0.7\n",
      "Iteration 1 Random Seed 9999 Learning Rate 0.001 Vocabulary Size 20000 Train accuracy 0.825 Test accuracy = 0.725\n",
      "Iteration 1 Random Seed 64 Learning Rate 0.01 Vocabulary Size 10000 Train accuracy 0.975 Test accuracy = 0.7\n",
      "Iteration 1 Random Seed 64 Learning Rate 0.001 Vocabulary Size 10000 Train accuracy 0.805 Test accuracy = 0.685\n",
      "Iteration 1 Random Seed 64 Learning Rate 0.01 Vocabulary Size 20000 Train accuracy 0.975 Test accuracy = 0.7\n",
      "Iteration 1 Random Seed 64 Learning Rate 0.001 Vocabulary Size 20000 Train accuracy 0.805 Test accuracy = 0.685\n",
      "Iteration 2 Random Seed 9999 Learning Rate 0.01 Vocabulary Size 10000 Train accuracy 0.99 Test accuracy = 0.7\n",
      "Iteration 2 Random Seed 9999 Learning Rate 0.001 Vocabulary Size 10000 Train accuracy 0.825 Test accuracy = 0.725\n",
      "Iteration 2 Random Seed 9999 Learning Rate 0.01 Vocabulary Size 20000 Train accuracy 0.99 Test accuracy = 0.7\n",
      "Iteration 2 Random Seed 9999 Learning Rate 0.001 Vocabulary Size 20000 Train accuracy 0.825 Test accuracy = 0.725\n",
      "Iteration 2 Random Seed 64 Learning Rate 0.01 Vocabulary Size 10000 Train accuracy 0.975 Test accuracy = 0.7\n",
      "Iteration 2 Random Seed 64 Learning Rate 0.001 Vocabulary Size 10000 Train accuracy 0.805 Test accuracy = 0.685\n",
      "Iteration 2 Random Seed 64 Learning Rate 0.01 Vocabulary Size 20000 Train accuracy 0.975 Test accuracy = 0.7\n",
      "Iteration 2 Random Seed 64 Learning Rate 0.001 Vocabulary Size 20000 Train accuracy 0.805 Test accuracy = 0.685\n"
     ]
    }
   ],
   "source": [
    "df_LTSM_300d = pd.DataFrame(columns = ['RNN', 'Word Vector', 'Iteration', 'Random Seed','Learning Rate', 'Vocabulary Size', 'Train Accuracy', 'Test Accuracy'])\n",
    "\n",
    "RANDOM_SEEDS = [9999, 9999, 9999, 9999, 64, 64, 64, 64]\n",
    "Learn_Rate = [.01, .001, .01, .001, .01, .001, .01, .001]\n",
    "VOCAB_SIZE = [10000, 10000, 20000, 20000, 10000, 10000, 20000, 20000]  # specify desired size of pre-defined embedding vocabulary \n",
    "#Epochs = [30, 50]\n",
    "#Batch = [100, 200]\n",
    "\n",
    "z = 1\n",
    "while z <= 2:\n",
    "    for a, b, c in zip(RANDOM_SEEDS, Learn_Rate, VOCAB_SIZE):\n",
    "        EVOCABSIZE = c\n",
    "        RANDOM_SEED = a\n",
    "            # Random splitting of the data in to training (80%) and test (20%)  \n",
    "        X_train, X_test, y_train, y_test = train_test_split(embeddings_array, thumbs_down_up, test_size=0.20, \n",
    "                                                            random_state = RANDOM_SEED)\n",
    "    \n",
    "        reset_graph()\n",
    "\n",
    "        lstm_cell = tf.compat.v1.nn.rnn_cell.LSTMCell(num_units=n_neurons)\n",
    "\n",
    "        n_steps = embeddings_array.shape[1]  # number of words per document \n",
    "        n_inputs = embeddings_array.shape[2]  # dimension of  pre-trained embeddings\n",
    "        n_neurons = 20  # analyst specified number of neurons\n",
    "        n_outputs = 2  # thumbs-down or thumbs-up\n",
    "        n_layers = 3\n",
    "\n",
    "        learning_rate = b\n",
    "\n",
    "        X = tf.placeholder(tf.float32, [None, n_steps, n_inputs])\n",
    "        y = tf.placeholder(tf.int32, [None])\n",
    "\n",
    "        lstm_cells = [tf.compat.v1.nn.rnn_cell.LSTMCell(num_units=n_neurons)\n",
    "                      for layer in range(n_layers)]\n",
    "        multi_cell = tf.nn.rnn_cell.MultiRNNCell(lstm_cells)\n",
    "        outputs, states = tf.nn.dynamic_rnn(multi_cell, X, dtype=tf.float32)\n",
    "        top_layer_h_state = states[-1][1]\n",
    "        logits = tf.layers.dense(top_layer_h_state, n_outputs, name=\"softmax\")\n",
    "        xentropy = tf.nn.sparse_softmax_cross_entropy_with_logits(labels=y, logits=logits)\n",
    "        loss = tf.reduce_mean(xentropy, name=\"loss\")\n",
    "        optimizer = tf.train.AdamOptimizer(learning_rate=learning_rate)\n",
    "        training_op = optimizer.minimize(loss)\n",
    "        correct = tf.nn.in_top_k(logits, y, 1)\n",
    "        accuracy = tf.reduce_mean(tf.cast(correct, tf.float32))\n",
    "\n",
    "        init = tf.global_variables_initializer()\n",
    "\n",
    "        n_epochs = 30\n",
    "        batch_size = 200\n",
    "        start_time = time.time()\n",
    "        with tf.Session() as sess:\n",
    "            init.run()\n",
    "            for epoch in range(n_epochs):\n",
    "                for iteration in range(y_train.shape[0] // batch_size):          \n",
    "                    X_batch = X_train[iteration*batch_size:(iteration + 1)*batch_size,:]\n",
    "                    y_batch = y_train[iteration*batch_size:(iteration + 1)*batch_size]\n",
    "\n",
    "                    sess.run(training_op, feed_dict={X: X_batch, y: y_batch})\n",
    "                acc_train = accuracy.eval(feed_dict={X: X_batch, y: y_batch})\n",
    "                acc_test = accuracy.eval(feed_dict={X: X_test, y: y_test})\n",
    "            print(\"Iteration\", z, \"Random Seed\", a, \"Learning Rate\", b, \"Vocabulary Size\", c, \"Train accuracy\", acc_train, \"Test accuracy =\", acc_test)\n",
    "\n",
    "        end_time = time.time()\n",
    "        run_time = end_time-start_time\n",
    "        run_time\n",
    "        \n",
    "        result = ({'RNN': 'LTSM', 'Word Vector': 'Glove 300d', 'Iteration': z, 'Random Seed': a, 'Learning Rate': b, 'Vocabulary Size': c, 'Train Accuracy': acc_train, 'Test Accuracy': acc_test})\n",
    "        df_LTSM_300d = df_LTSM_300d.append(result, ignore_index=True)\n",
    "    z = z + 1\n",
    "        "
   ]
  },
  {
   "cell_type": "markdown",
   "metadata": {},
   "source": [
    "## Dropout With Basic RNN, Word Vector Glove 300d\n"
   ]
  },
  {
   "cell_type": "code",
   "execution_count": 50,
   "metadata": {
    "scrolled": false
   },
   "outputs": [
    {
     "name": "stdout",
     "output_type": "stream",
     "text": [
      "Iteration 1 Random Seed 9999 Learning Rate 0.01 Vocabulary Size 10000 Train accuracy 0.68 Test accuracy = 0.615\n",
      "Iteration 1 Random Seed 9999 Learning Rate 0.001 Vocabulary Size 10000 Train accuracy 0.565 Test accuracy = 0.535\n",
      "Iteration 1 Random Seed 9999 Learning Rate 0.01 Vocabulary Size 20000 Train accuracy 0.685 Test accuracy = 0.585\n",
      "Iteration 1 Random Seed 9999 Learning Rate 0.001 Vocabulary Size 20000 Train accuracy 0.565 Test accuracy = 0.55\n",
      "Iteration 1 Random Seed 64 Learning Rate 0.01 Vocabulary Size 10000 Train accuracy 0.705 Test accuracy = 0.58\n",
      "Iteration 1 Random Seed 64 Learning Rate 0.001 Vocabulary Size 10000 Train accuracy 0.575 Test accuracy = 0.595\n",
      "Iteration 1 Random Seed 64 Learning Rate 0.01 Vocabulary Size 20000 Train accuracy 0.595 Test accuracy = 0.605\n",
      "Iteration 1 Random Seed 64 Learning Rate 0.001 Vocabulary Size 20000 Train accuracy 0.625 Test accuracy = 0.57\n",
      "Iteration 2 Random Seed 9999 Learning Rate 0.01 Vocabulary Size 10000 Train accuracy 0.645 Test accuracy = 0.56\n",
      "Iteration 2 Random Seed 9999 Learning Rate 0.001 Vocabulary Size 10000 Train accuracy 0.535 Test accuracy = 0.53\n",
      "Iteration 2 Random Seed 9999 Learning Rate 0.01 Vocabulary Size 20000 Train accuracy 0.67 Test accuracy = 0.585\n",
      "Iteration 2 Random Seed 9999 Learning Rate 0.001 Vocabulary Size 20000 Train accuracy 0.575 Test accuracy = 0.55\n",
      "Iteration 2 Random Seed 64 Learning Rate 0.01 Vocabulary Size 10000 Train accuracy 0.715 Test accuracy = 0.58\n",
      "Iteration 2 Random Seed 64 Learning Rate 0.001 Vocabulary Size 10000 Train accuracy 0.63 Test accuracy = 0.615\n",
      "Iteration 2 Random Seed 64 Learning Rate 0.01 Vocabulary Size 20000 Train accuracy 0.65 Test accuracy = 0.625\n",
      "Iteration 2 Random Seed 64 Learning Rate 0.001 Vocabulary Size 20000 Train accuracy 0.595 Test accuracy = 0.605\n"
     ]
    }
   ],
   "source": [
    "df_Dropout_300d = pd.DataFrame(columns = ['RNN', 'Word Vector', 'Iteration', 'Random Seed','Learning Rate', 'Vocabulary Size', 'Train Accuracy', 'Test Accuracy'])\n",
    "\n",
    "RANDOM_SEEDS = [9999, 9999, 9999, 9999, 64, 64, 64, 64]\n",
    "Learn_Rate = [.01, .001, .01, .001, .01, .001, .01, .001]\n",
    "VOCAB_SIZE = [10000, 10000, 20000, 20000, 10000, 10000, 20000, 20000]  # specify desired size of pre-defined embedding vocabulary \n",
    "#Epochs = [30, 50]\n",
    "#Batch = [100, 200]\n",
    "\n",
    "z = 1\n",
    "while z <= 2:\n",
    "    for a, b, c in zip(RANDOM_SEEDS, Learn_Rate, VOCAB_SIZE):\n",
    "        EVOCABSIZE = c\n",
    "        RANDOM_SEED = a\n",
    "            # Random splitting of the data in to training (80%) and test (20%)  \n",
    "        X_train, X_test, y_train, y_test = train_test_split(embeddings_array, thumbs_down_up, test_size=0.20, \n",
    "                                                            random_state = RANDOM_SEED)\n",
    "    \n",
    "\n",
    "        reset_graph()\n",
    "\n",
    "        n_steps = embeddings_array.shape[1]  # number of words per document \n",
    "        n_inputs = embeddings_array.shape[2]  # dimension of  pre-trained embeddings\n",
    "        n_neurons = 20  # analyst specified number of neurons\n",
    "        n_outputs = 2  # thumbs-down or thumbs-up\n",
    "        n_layers = 3\n",
    "\n",
    "        learning_rate = b\n",
    "\n",
    "        X = tf.placeholder(tf.float32, [None, n_steps, n_inputs])\n",
    "        y = tf.placeholder(tf.int32, [None])\n",
    "\n",
    "        keep_prob = tf.placeholder_with_default(.5, shape=())\n",
    "        cells = [tf.contrib.rnn.BasicRNNCell(num_units=n_neurons)\n",
    "                 for layer in range(n_layers)]\n",
    "        cells_drop = [tf.contrib.rnn.DropoutWrapper(cell, input_keep_prob=keep_prob)\n",
    "                      for cell in cells]\n",
    "        multi_layer_cell = tf.contrib.rnn.MultiRNNCell(cells_drop)\n",
    "        outputs, states = tf.nn.dynamic_rnn(multi_layer_cell, X, dtype=tf.float32)\n",
    "\n",
    "        states_concat = tf.concat(axis=1, values=states)\n",
    "        logits = tf.layers.dense(states_concat, n_outputs)\n",
    "        xentropy = tf.nn.sparse_softmax_cross_entropy_with_logits(labels=y, logits=logits)\n",
    "        loss = tf.reduce_mean(xentropy)\n",
    "        optimizer = tf.train.AdamOptimizer(learning_rate=learning_rate)\n",
    "        training_op = optimizer.minimize(loss)\n",
    "        correct = tf.nn.in_top_k(logits, y, 1)\n",
    "        accuracy = tf.reduce_mean(tf.cast(correct, tf.float32))\n",
    "\n",
    "        init = tf.global_variables_initializer()\n",
    "\n",
    "        n_epochs = 50\n",
    "        batch_size = 200\n",
    "        train_keep_prob = 0.5\n",
    "        start_time = time.time()\n",
    "        with tf.Session() as sess:\n",
    "            init.run()\n",
    "            for epoch in range(n_epochs):\n",
    "                for iteration in range(y_train.shape[0] // batch_size):\n",
    "                    X_batch = X_train[iteration*batch_size:(iteration + 1)*batch_size,:]\n",
    "                    y_batch = y_train[iteration*batch_size:(iteration + 1)*batch_size]\n",
    "                    X_batch = X_batch.reshape((-1, n_steps, n_inputs))\n",
    "                    sess.run(training_op, feed_dict={X: X_batch, y: y_batch,keep_prob: train_keep_prob})\n",
    "                acc_train = accuracy.eval(feed_dict={X: X_batch, y: y_batch})\n",
    "                acc_test = accuracy.eval(feed_dict={X: X_test, y: y_test})\n",
    "            print(\"Iteration\", z, \"Random Seed\", a, \"Learning Rate\", b, \"Vocabulary Size\", c, \"Train accuracy\", acc_train, \"Test accuracy =\", acc_test)\n",
    "\n",
    "        end_time = time.time()\n",
    "        run_time = end_time-start_time\n",
    "        run_time\n",
    "        \n",
    "        result = ({'RNN': 'Dropout', 'Word Vector': 'Glove 300d', 'Iteration': z, 'Random Seed': a, 'Learning Rate': b, 'Vocabulary Size': c, 'Train Accuracy': acc_train, 'Test Accuracy': acc_test})\n",
    "        df_Dropout_300d = df_Dropout_300d.append(result, ignore_index=True)\n",
    "    z = z + 1\n",
    "        \n",
    "        "
   ]
  },
  {
   "cell_type": "code",
   "execution_count": 52,
   "metadata": {},
   "outputs": [
    {
     "name": "stdout",
     "output_type": "stream",
     "text": [
      "        RNN Word Vector Iteration Random Seed  Learning Rate Vocabulary Size  \\\n",
      "0     Basic   Glove 50d         1        9999          0.010           10000   \n",
      "1     Basic   Glove 50d         1        9999          0.001           10000   \n",
      "2     Basic   Glove 50d         1        9999          0.010           20000   \n",
      "3     Basic   Glove 50d         1        9999          0.001           20000   \n",
      "4     Basic   Glove 50d         1          64          0.010           10000   \n",
      "..      ...         ...       ...         ...            ...             ...   \n",
      "11  Dropout  Glove 300d         2        9999          0.001           20000   \n",
      "12  Dropout  Glove 300d         2          64          0.010           10000   \n",
      "13  Dropout  Glove 300d         2          64          0.001           10000   \n",
      "14  Dropout  Glove 300d         2          64          0.010           20000   \n",
      "15  Dropout  Glove 300d         2          64          0.001           20000   \n",
      "\n",
      "    Train Accuracy  Test Accuracy  \n",
      "0            1.000          0.560  \n",
      "1            0.800          0.680  \n",
      "2            1.000          0.560  \n",
      "3            0.800          0.680  \n",
      "4            0.950          0.590  \n",
      "..             ...            ...  \n",
      "11           0.575          0.550  \n",
      "12           0.715          0.580  \n",
      "13           0.630          0.615  \n",
      "14           0.650          0.625  \n",
      "15           0.595          0.605  \n",
      "\n",
      "[96 rows x 8 columns]\n"
     ]
    }
   ],
   "source": [
    "df_total = pd.concat([df_basic_50d, df_LTSM_50d, df_Dropout_50d, df_basic_300d, df_LTSM_300d, df_Dropout_300d])\n",
    "print(df_total)\n",
    "\n",
    "df_total.to_csv(\"Results.csv\", index=False)"
   ]
  },
  {
   "cell_type": "code",
   "execution_count": null,
   "metadata": {},
   "outputs": [],
   "source": []
  },
  {
   "cell_type": "code",
   "execution_count": null,
   "metadata": {},
   "outputs": [],
   "source": []
  }
 ],
 "metadata": {
  "kernelspec": {
   "display_name": "Python 3",
   "language": "python",
   "name": "python3"
  },
  "language_info": {
   "codemirror_mode": {
    "name": "ipython",
    "version": 3
   },
   "file_extension": ".py",
   "mimetype": "text/x-python",
   "name": "python",
   "nbconvert_exporter": "python",
   "pygments_lexer": "ipython3",
   "version": "3.6.9"
  }
 },
 "nbformat": 4,
 "nbformat_minor": 2
}
