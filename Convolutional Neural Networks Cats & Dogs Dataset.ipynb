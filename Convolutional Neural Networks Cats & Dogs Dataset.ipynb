{
 "cells": [
  {
   "cell_type": "code",
   "execution_count": 1,
   "metadata": {},
   "outputs": [],
   "source": [
    "# coding: utf-8\n",
    "\n",
    "# Initial deep neural network set-up from \n",
    "# Géron, A. 2017. Hands-On Machine Learning with Scikit-Learn \n",
    "#    & TensorFlow: Concepts, Tools, and Techniques to Build \n",
    "#    Intelligent Systems. Sebastopol, Calif.: O'Reilly. \n",
    "#    [ISBN-13 978-1-491-96229-9] \n",
    "#    Source code available at https://github.com/ageron/handson-ml\n",
    "#    See file 10_introduction_to_artificial_neural_networks.ipynb \n",
    "#    Revised from MNIST to Cats and Dogs to begin Assignment 7\n",
    "#    #CatsDogs# comment lines show additions/revisions for Cats and Dogs\n",
    "\n",
    "# To support both python 2 and python 3\n",
    "from __future__ import division, print_function, unicode_literals\n",
    "\n",
    "# Common imports for our work\n",
    "import os \n",
    "import numpy as np\n",
    "import tensorflow as tf\n",
    "import time\n",
    "RANDOM_SEED = 9999\n",
    "\n",
    "# To make output stable across runs\n",
    "def reset_graph(seed= RANDOM_SEED):\n",
    "    tf.reset_default_graph()\n",
    "    tf.set_random_seed(seed)\n",
    "    np.random.seed(seed)"
   ]
  },
  {
   "cell_type": "code",
   "execution_count": 2,
   "metadata": {},
   "outputs": [],
   "source": [
    "#CatsDogs# Old dimensions from MNIST no loger apply\n",
    "#CatsDogs# height = 28\n",
    "#CatsDogs# width = 28\n",
    "height = 64\n",
    "width = 64  "
   ]
  },
  {
   "cell_type": "code",
   "execution_count": 25,
   "metadata": {},
   "outputs": [],
   "source": [
    "#CatsDogs# \n",
    "# Documentation on npy binary format for saving numpy arrays for later use\n",
    "#     https://towardsdatascience.com/\n",
    "#             why-you-should-start-using-npy-file-more-often-df2a13cc0161\n",
    "# Under the working directory, data files are in directory cats_dogs_64_128 \n",
    "# Read in cats and dogs grayscale 64x64 files to create training data\n",
    "cats_1000_64_64_1 = np.load('cats-dogs-jump-start-v002/cats_dogs_64-128/cats_1000_64_64_1.npy')\n",
    "dogs_1000_64_64_1 = np.load('cats-dogs-jump-start-v002/cats_dogs_64-128/dogs_1000_64_64_1.npy')"
   ]
  },
  {
   "cell_type": "code",
   "execution_count": 26,
   "metadata": {},
   "outputs": [],
   "source": [
    "from matplotlib import pyplot as plt  # for display of images\n",
    "def show_grayscale_image(image):\n",
    "    plt.imshow(image, cmap='gray')\n",
    "    plt.axis('off')\n",
    "    plt.show()\n"
   ]
  },
  {
   "cell_type": "code",
   "execution_count": 27,
   "metadata": {},
   "outputs": [
    {
     "data": {
      "image/png": "[encoded data removed]",
      "text/plain": [
       "<Figure size 432x288 with 1 Axes>"
      ]
     },
     "metadata": {
      "needs_background": "light"
     },
     "output_type": "display_data"
    },
    {
     "data": {
      "image/png": "[encoded data removed]",
      "text/plain": [
       "<Figure size 432x288 with 1 Axes>"
      ]
     },
     "metadata": {
      "needs_background": "light"
     },
     "output_type": "display_data"
    }
   ],
   "source": [
    "# Examine first cat and first dog grayscale images\n",
    "show_grayscale_image(cats_1000_64_64_1[0,:,:,0])\n",
    "show_grayscale_image(dogs_1000_64_64_1[0,:,:,0])"
   ]
  },
  {
   "cell_type": "markdown",
   "metadata": {},
   "source": [
    "Rework the Data and Split into Train and Test Sets"
   ]
  },
  {
   "cell_type": "code",
   "execution_count": 34,
   "metadata": {},
   "outputs": [],
   "source": [
    "# Work the data for cats and dogs numpy arrays \n",
    "# These numpy arrays were generated in previous data prep work\n",
    "# Stack the numpy arrays for the inputs\n",
    "X_cat_dog = np.concatenate((cats_1000_64_64_1, dogs_1000_64_64_1), axis = 0) \n",
    "X_cat_dog = X_cat_dog.reshape(-1,width*height) # note coversion to 4096 inputs\n",
    "\n",
    "# Scikit Learn for min-max scaling of the data\n",
    "from sklearn.preprocessing import MinMaxScaler\n",
    "scaler = MinMaxScaler()\n",
    "scaler.fit(np.array([0., 255.]).reshape(-1,1))\n",
    "X_cat_dog_min_max = scaler.transform(X_cat_dog)\n",
    "\n",
    "# Define the labels to be used 1000 cats = 0 1000 dogs = 1\n",
    "y_cat_dog = np.concatenate((np.zeros((1000), dtype = np.int32), \n",
    "                      np.ones((1000), dtype = np.int32)), axis = 0)\n",
    "\n",
    "# Scikit Learn for random splitting of the data  \n",
    "from sklearn.model_selection import train_test_split\n",
    "\n",
    "# Random splitting of the data in to training (80%) and test (20%)  \n",
    "X_train, X_test, y_train, y_test = \\\n",
    "    train_test_split(X_cat_dog_min_max, y_cat_dog, test_size=0.20, \n",
    "                     random_state = RANDOM_SEED)"
   ]
  },
  {
   "cell_type": "code",
   "execution_count": 35,
   "metadata": {},
   "outputs": [],
   "source": [
    "# 300 and 100 nodes for layers 1 and 2 as used with MNIST from Geron\n",
    "n_hidden1 = 300\n",
    "n_hidden2 = 100\n",
    "channels = 1  # When working with color images use channels = 3\n",
    "n_inputs = height * width\n",
    "\n",
    "#CatsDogs# Has two output values # MNIST had ten digits n_outputs = 10  \n",
    "n_outputs = 2  # binary classification for Cats and Dogs, 1 output node 0/1"
   ]
  },
  {
   "cell_type": "markdown",
   "metadata": {},
   "source": [
    "DNN Framework"
   ]
  },
  {
   "cell_type": "code",
   "execution_count": 36,
   "metadata": {},
   "outputs": [],
   "source": [
    "reset_graph()\n",
    "\n",
    "# dnn... Deep neural network model from Geron Chapter 10\n",
    "# Note that this model makes no use of the fact that we have\n",
    "# pixel data arranged in rows and columns\n",
    "# So a 64x64 matrix of raster values becomes a vector of 4096 input variables\n",
    "X = tf.placeholder(tf.float32, shape=(None, n_inputs), name=\"X\")\n",
    "y = tf.placeholder(tf.int32, shape=(None), name=\"y\")\n",
    "\n",
    "def neuron_layer(X, n_neurons, name, activation=None):\n",
    "    with tf.name_scope(name):\n",
    "        n_inputs = int(X.get_shape()[1])\n",
    "        stddev = 2 / np.sqrt(n_inputs)\n",
    "        init = tf.truncated_normal((n_inputs, n_neurons), stddev=stddev)\n",
    "        W = tf.Variable(init, name=\"kernel\")\n",
    "        b = tf.Variable(tf.zeros([n_neurons]), name=\"bias\")\n",
    "        Z = tf.matmul(X, W) + b\n",
    "        if activation is not None:\n",
    "            return activation(Z)\n",
    "        else:\n",
    "            return Z\n",
    "\n",
    "with tf.name_scope(\"dnn\"):\n",
    "    hidden1 = neuron_layer(X, n_hidden1, name=\"hidden1\",\n",
    "                           activation=tf.nn.relu)\n",
    "    hidden2 = neuron_layer(hidden1, n_hidden2, name=\"hidden2\",\n",
    "                           activation=tf.nn.relu)\n",
    "    logits = neuron_layer(hidden2, n_outputs, name=\"outputs\")\n",
    "    \n",
    "with tf.name_scope(\"loss\"):\n",
    "    xentropy = tf.nn.sparse_softmax_cross_entropy_with_logits(labels=y, logits=logits)\n",
    "    loss = tf.reduce_mean(xentropy, name=\"loss\")\n",
    "\n",
    "learning_rate = 0.01\n",
    "\n",
    "with tf.name_scope(\"train\"):\n",
    "    optimizer = tf.train.GradientDescentOptimizer(learning_rate)\n",
    "    training_op = optimizer.minimize(loss)\n",
    "    \n",
    "with tf.name_scope(\"eval\"):\n",
    "    correct = tf.nn.in_top_k(logits, y, 1)\n",
    "    accuracy = tf.reduce_mean(tf.cast(correct, tf.float32))    \n",
    "\n",
    "init = tf.global_variables_initializer()\n",
    "saver = tf.train.Saver()"
   ]
  },
  {
   "cell_type": "code",
   "execution_count": 37,
   "metadata": {},
   "outputs": [
    {
     "name": "stdout",
     "output_type": "stream",
     "text": [
      "0 Train accuracy: 0.64 Test accuracy: 0.5075\n",
      "1 Train accuracy: 0.63 Test accuracy: 0.51\n",
      "2 Train accuracy: 0.64 Test accuracy: 0.52\n",
      "3 Train accuracy: 0.65 Test accuracy: 0.52\n",
      "4 Train accuracy: 0.64 Test accuracy: 0.515\n",
      "5 Train accuracy: 0.68 Test accuracy: 0.515\n",
      "6 Train accuracy: 0.67 Test accuracy: 0.53\n",
      "7 Train accuracy: 0.69 Test accuracy: 0.5275\n",
      "8 Train accuracy: 0.69 Test accuracy: 0.535\n",
      "9 Train accuracy: 0.69 Test accuracy: 0.5275\n",
      "10 Train accuracy: 0.71 Test accuracy: 0.5275\n",
      "11 Train accuracy: 0.73 Test accuracy: 0.54\n",
      "12 Train accuracy: 0.68 Test accuracy: 0.525\n",
      "13 Train accuracy: 0.68 Test accuracy: 0.515\n",
      "14 Train accuracy: 0.72 Test accuracy: 0.5325\n",
      "15 Train accuracy: 0.69 Test accuracy: 0.515\n",
      "16 Train accuracy: 0.7 Test accuracy: 0.52\n",
      "17 Train accuracy: 0.68 Test accuracy: 0.5125\n",
      "18 Train accuracy: 0.78 Test accuracy: 0.55\n",
      "19 Train accuracy: 0.79 Test accuracy: 0.56\n",
      "20 Train accuracy: 0.82 Test accuracy: 0.59\n",
      "21 Train accuracy: 0.81 Test accuracy: 0.54\n",
      "22 Train accuracy: 0.68 Test accuracy: 0.525\n",
      "23 Train accuracy: 0.68 Test accuracy: 0.515\n",
      "24 Train accuracy: 0.68 Test accuracy: 0.515\n",
      "25 Train accuracy: 0.81 Test accuracy: 0.5525\n",
      "26 Train accuracy: 0.77 Test accuracy: 0.56\n",
      "27 Train accuracy: 0.82 Test accuracy: 0.565\n",
      "28 Train accuracy: 0.72 Test accuracy: 0.5175\n",
      "29 Train accuracy: 0.74 Test accuracy: 0.56\n",
      "30 Train accuracy: 0.83 Test accuracy: 0.57\n",
      "31 Train accuracy: 0.72 Test accuracy: 0.515\n",
      "32 Train accuracy: 0.68 Test accuracy: 0.51\n",
      "33 Train accuracy: 0.85 Test accuracy: 0.5525\n",
      "34 Train accuracy: 0.69 Test accuracy: 0.5125\n",
      "35 Train accuracy: 0.84 Test accuracy: 0.5825\n",
      "36 Train accuracy: 0.85 Test accuracy: 0.6\n",
      "37 Train accuracy: 0.87 Test accuracy: 0.58\n",
      "38 Train accuracy: 0.75 Test accuracy: 0.525\n",
      "39 Train accuracy: 0.77 Test accuracy: 0.55\n",
      "40 Train accuracy: 0.83 Test accuracy: 0.585\n",
      "41 Train accuracy: 0.89 Test accuracy: 0.585\n",
      "42 Train accuracy: 0.84 Test accuracy: 0.5275\n",
      "43 Train accuracy: 0.72 Test accuracy: 0.53\n",
      "44 Train accuracy: 0.69 Test accuracy: 0.515\n",
      "45 Train accuracy: 0.74 Test accuracy: 0.535\n",
      "46 Train accuracy: 0.69 Test accuracy: 0.515\n",
      "47 Train accuracy: 0.76 Test accuracy: 0.5575\n",
      "48 Train accuracy: 0.88 Test accuracy: 0.585\n",
      "49 Train accuracy: 0.85 Test accuracy: 0.58\n"
     ]
    }
   ],
   "source": [
    "init = tf.global_variables_initializer()    \n",
    "\n",
    "n_epochs = 50\n",
    "batch_size = 100\n",
    "\n",
    "with tf.Session() as sess:\n",
    "    init.run()\n",
    "    for epoch in range(n_epochs):\n",
    "        for iteration in range(y_train.shape[0] // batch_size):\n",
    "            X_batch = X_train[iteration*batch_size:(iteration + 1)*batch_size,:]\n",
    "            y_batch = y_train[iteration*batch_size:(iteration + 1)*batch_size]\n",
    "            sess.run(training_op, feed_dict={X: X_batch, y: y_batch})\n",
    "        acc_train = accuracy.eval(feed_dict={X: X_batch, y: y_batch})\n",
    "        acc_test = accuracy.eval(feed_dict={X: X_test, y: y_test})\n",
    "        print(epoch, \"Train accuracy:\", acc_train, \"Test accuracy:\", acc_test)\n",
    "\n",
    "        save_path = saver.save(sess, \"./my_catdog_model\")"
   ]
  },
  {
   "cell_type": "code",
   "execution_count": 21,
   "metadata": {},
   "outputs": [],
   "source": [
    "reset_graph()"
   ]
  },
  {
   "cell_type": "code",
   "execution_count": 22,
   "metadata": {},
   "outputs": [
    {
     "name": "stderr",
     "output_type": "stream",
     "text": [
      "WARNING: Logging before flag parsing goes to stderr.\n",
      "W0811 22:35:26.117274 20640 deprecation.py:323] From <ipython-input-22-2592acbce4da>:28: conv2d (from tensorflow.python.layers.convolutional) is deprecated and will be removed in a future version.\n",
      "Instructions for updating:\n",
      "Use `tf.keras.layers.Conv2D` instead.\n",
      "W0811 22:35:26.120302 20640 deprecation.py:506] From C:\\Users\\Himalaya\\Anaconda3\\envs\\hello-tf\\lib\\site-packages\\tensorflow\\python\\ops\\init_ops.py:1251: calling VarianceScaling.__init__ (from tensorflow.python.ops.init_ops) with dtype is deprecated and will be removed in a future version.\n",
      "Instructions for updating:\n",
      "Call initializer instance with the dtype argument instead of passing it to the constructor\n",
      "W0811 22:35:27.924288 20640 deprecation.py:323] From <ipython-input-22-2592acbce4da>:37: dense (from tensorflow.python.layers.core) is deprecated and will be removed in a future version.\n",
      "Instructions for updating:\n",
      "Use keras.layers.dense instead.\n"
     ]
    }
   ],
   "source": [
    "height = 64\n",
    "width = 64 \n",
    "channels = 1  # When working with color images use channels = 3\n",
    "n_inputs = height * width\n",
    "n_outputs = 2\n",
    "conv1_fmaps = 32\n",
    "conv1_ksize = 3\n",
    "conv1_stride = 1\n",
    "conv1_pad = \"SAME\"\n",
    "\n",
    "conv2_fmaps = 64\n",
    "conv2_ksize = 3\n",
    "conv2_stride = 2\n",
    "conv2_pad = \"SAME\"\n",
    "#conv2_dropout_rate = 0.25\n",
    "\n",
    "pool3_fmaps = conv2_fmaps\n",
    "n_fc1 = 72\n",
    "fc1_dropout_rate = 0.5\n",
    "\n",
    "with tf.name_scope(\"inputs\"):\n",
    "    X = tf.placeholder(tf.float32, shape=[None, n_inputs], name=\"X\")\n",
    "    X_reshaped = tf.reshape(X, shape=[-1, height, width, channels])\n",
    "    y = tf.placeholder(tf.int32, shape=[None], name=\"y\")\n",
    "    \n",
    "conv1 = tf.layers.conv2d(X_reshaped, filters=conv1_fmaps, kernel_size=conv1_ksize,\n",
    "                         strides=conv1_stride, padding=conv1_pad,\n",
    "                         activation=tf.nn.relu, name=\"conv1\")\n",
    "conv2 = tf.layers.conv2d(conv1, filters=conv2_fmaps, kernel_size=conv2_ksize,\n",
    "                         strides=conv2_stride, padding=conv2_pad,\n",
    "                         activation=tf.nn.relu, name=\"conv2\")\n",
    "with tf.name_scope(\"pool3\"):\n",
    "    pool3 = tf.nn.max_pool(conv2, ksize=[1, 2, 2, 1], strides=[1, 2, 2, 1], padding=\"VALID\")\n",
    "    pool3_flat = tf.reshape(pool3, shape=[-1, pool3_fmaps * 16 * 16])\n",
    "\n",
    "with tf.name_scope(\"fc1\"):\n",
    "    fc1 = tf.layers.dense(pool3_flat, n_fc1, activation=tf.nn.relu, name=\"fc1\")\n",
    "\n",
    "with tf.name_scope(\"output\"):\n",
    "    logits = tf.layers.dense(fc1, n_outputs, name=\"output\")\n",
    "    Y_proba = tf.nn.softmax(logits, name=\"Y_proba\")\n",
    "\n",
    "\n",
    "with tf.name_scope(\"train\"):\n",
    "    xentropy = tf.nn.sparse_softmax_cross_entropy_with_logits(logits=logits, labels=y)\n",
    "    loss = tf.reduce_mean(xentropy)\n",
    "    optimizer = tf.train.AdamOptimizer(learning_rate = .001)\n",
    "    training_op = optimizer.minimize(loss)\n",
    "\n",
    "with tf.name_scope(\"eval\"):\n",
    "    correct = tf.nn.in_top_k(logits, y, 1)\n",
    "    accuracy = tf.reduce_mean(tf.cast(correct, tf.float32))\n",
    "    \n",
    "X_train, X_test, y_train, y_test = \\\n",
    "    train_test_split(X_cat_dog_min_max, y_cat_dog, test_size=0.20, \n",
    "                     random_state = RANDOM_SEED)\n",
    "def shuffle_batch(X, y, batch_size):\n",
    "    rnd_idx = np.random.permutation(len(X))\n",
    "    n_batches = len(X) // batch_size\n",
    "    for batch_idx in np.array_split(rnd_idx, n_batches):\n",
    "        X_batch, y_batch = X[batch_idx], y[batch_idx]\n",
    "        yield X_batch, y_batch\n",
    "        \n"
   ]
  },
  {
   "cell_type": "code",
   "execution_count": 23,
   "metadata": {},
   "outputs": [
    {
     "data": {
      "text/plain": [
       "<tf.Tensor 'Shape:0' shape=(1,) dtype=int32>"
      ]
     },
     "execution_count": 23,
     "metadata": {},
     "output_type": "execute_result"
    }
   ],
   "source": [
    "tf.shape(y)"
   ]
  },
  {
   "cell_type": "markdown",
   "metadata": {},
   "source": [
    "## Learning Rate .001\n",
    "### Tested with 20, 25, and 30 epochs"
   ]
  },
  {
   "cell_type": "code",
   "execution_count": 24,
   "metadata": {},
   "outputs": [
    {
     "name": "stdout",
     "output_type": "stream",
     "text": [
      "0 Train accuracy: 0.59 Test accuracy: 0.48\n",
      "1 Train accuracy: 0.6 Test accuracy: 0.495\n",
      "2 Train accuracy: 0.67 Test accuracy: 0.53\n",
      "3 Train accuracy: 0.66 Test accuracy: 0.5975\n",
      "4 Train accuracy: 0.72 Test accuracy: 0.59\n",
      "5 Train accuracy: 0.76 Test accuracy: 0.6125\n",
      "6 Train accuracy: 0.73 Test accuracy: 0.6125\n",
      "7 Train accuracy: 0.8 Test accuracy: 0.6275\n",
      "8 Train accuracy: 0.86 Test accuracy: 0.6275\n",
      "9 Train accuracy: 0.92 Test accuracy: 0.625\n",
      "10 Train accuracy: 0.92 Test accuracy: 0.635\n",
      "11 Train accuracy: 0.94 Test accuracy: 0.6225\n",
      "12 Train accuracy: 0.98 Test accuracy: 0.6425\n",
      "13 Train accuracy: 1.0 Test accuracy: 0.63\n",
      "14 Train accuracy: 1.0 Test accuracy: 0.635\n",
      "15 Train accuracy: 0.9 Test accuracy: 0.6325\n",
      "16 Train accuracy: 0.99 Test accuracy: 0.62\n",
      "17 Train accuracy: 1.0 Test accuracy: 0.6375\n",
      "18 Train accuracy: 0.99 Test accuracy: 0.6075\n",
      "19 Train accuracy: 1.0 Test accuracy: 0.6325\n",
      "20 Train accuracy: 1.0 Test accuracy: 0.62\n",
      "21 Train accuracy: 1.0 Test accuracy: 0.6225\n",
      "22 Train accuracy: 1.0 Test accuracy: 0.62\n",
      "23 Train accuracy: 1.0 Test accuracy: 0.6175\n",
      "24 Train accuracy: 1.0 Test accuracy: 0.615\n"
     ]
    },
    {
     "data": {
      "text/plain": [
       "118.01953792572021"
      ]
     },
     "execution_count": 24,
     "metadata": {},
     "output_type": "execute_result"
    }
   ],
   "source": [
    "init = tf.global_variables_initializer()    \n",
    "\n",
    "n_epochs = 25\n",
    "batch_size = 100\n",
    "start = time.time()\n",
    "with tf.Session() as sess:\n",
    "    init.run()\n",
    "    for epoch in range(n_epochs):\n",
    "\n",
    "                \n",
    "        for iteration in range(y_train.shape[0] // batch_size):\n",
    "            X_batch = X_train[iteration*batch_size:(iteration + 1)*batch_size,:]\n",
    "            y_batch = y_train[iteration*batch_size:(iteration + 1)*batch_size]\n",
    "            sess.run(training_op, feed_dict={X: X_batch, y: y_batch})\n",
    "        \n",
    "        \n",
    "        acc_train = accuracy.eval(feed_dict={X: X_batch, y: y_batch})\n",
    "        acc_test = accuracy.eval(feed_dict={X: X_test, y: y_test})\n",
    "        print(epoch, \"Train accuracy:\", acc_train, \"Test accuracy:\", acc_test)\n",
    "        \n",
    "end = time.time()\n",
    "Runtime = end-start\n",
    "Runtime"
   ]
  },
  {
   "cell_type": "code",
   "execution_count": 25,
   "metadata": {},
   "outputs": [],
   "source": [
    "reset_graph()"
   ]
  },
  {
   "cell_type": "code",
   "execution_count": 26,
   "metadata": {},
   "outputs": [],
   "source": [
    "height = 64\n",
    "width = 64 \n",
    "channels = 1  # When working with color images use channels = 3\n",
    "n_inputs = height * width\n",
    "n_outputs = 2\n",
    "conv1_fmaps = 32\n",
    "conv1_ksize = 3\n",
    "conv1_stride = 1\n",
    "conv1_pad = \"SAME\"\n",
    "\n",
    "conv2_fmaps = 64\n",
    "conv2_ksize = 3\n",
    "conv2_stride = 2\n",
    "conv2_pad = \"SAME\"\n",
    "#conv2_dropout_rate = 0.25\n",
    "\n",
    "pool3_fmaps = conv2_fmaps\n",
    "n_fc1 = 72\n",
    "fc1_dropout_rate = 0.5\n",
    "\n",
    "with tf.name_scope(\"inputs\"):\n",
    "    X = tf.placeholder(tf.float32, shape=[None, n_inputs], name=\"X\")\n",
    "    X_reshaped = tf.reshape(X, shape=[-1, height, width, channels])\n",
    "    y = tf.placeholder(tf.int32, shape=[None], name=\"y\")\n",
    "    \n",
    "conv1 = tf.layers.conv2d(X_reshaped, filters=conv1_fmaps, kernel_size=conv1_ksize,\n",
    "                         strides=conv1_stride, padding=conv1_pad,\n",
    "                         activation=tf.nn.relu, name=\"conv1\")\n",
    "conv2 = tf.layers.conv2d(conv1, filters=conv2_fmaps, kernel_size=conv2_ksize,\n",
    "                         strides=conv2_stride, padding=conv2_pad,\n",
    "                         activation=tf.nn.relu, name=\"conv2\")\n",
    "with tf.name_scope(\"pool3\"):\n",
    "    pool3 = tf.nn.max_pool(conv2, ksize=[1, 2, 2, 1], strides=[1, 2, 2, 1], padding=\"VALID\")\n",
    "    pool3_flat = tf.reshape(pool3, shape=[-1, pool3_fmaps * 16 * 16])\n",
    "\n",
    "with tf.name_scope(\"fc1\"):\n",
    "    fc1 = tf.layers.dense(pool3_flat, n_fc1, activation=tf.nn.relu, name=\"fc1\")\n",
    "\n",
    "with tf.name_scope(\"output\"):\n",
    "    logits = tf.layers.dense(fc1, n_outputs, name=\"output\")\n",
    "    Y_proba = tf.nn.softmax(logits, name=\"Y_proba\")\n",
    "\n",
    "\n",
    "with tf.name_scope(\"train\"):\n",
    "    xentropy = tf.nn.sparse_softmax_cross_entropy_with_logits(logits=logits, labels=y)\n",
    "    loss = tf.reduce_mean(xentropy)\n",
    "    optimizer = tf.train.AdamOptimizer(learning_rate = .1)\n",
    "    training_op = optimizer.minimize(loss)\n",
    "\n",
    "with tf.name_scope(\"eval\"):\n",
    "    correct = tf.nn.in_top_k(logits, y, 1)\n",
    "    accuracy = tf.reduce_mean(tf.cast(correct, tf.float32))\n",
    "    \n",
    "X_train, X_test, y_train, y_test = \\\n",
    "    train_test_split(X_cat_dog_min_max, y_cat_dog, test_size=0.20, \n",
    "                     random_state = RANDOM_SEED)\n",
    "def shuffle_batch(X, y, batch_size):\n",
    "    rnd_idx = np.random.permutation(len(X))\n",
    "    n_batches = len(X) // batch_size\n",
    "    for batch_idx in np.array_split(rnd_idx, n_batches):\n",
    "        X_batch, y_batch = X[batch_idx], y[batch_idx]\n",
    "        yield X_batch, y_batch\n",
    "        "
   ]
  },
  {
   "cell_type": "markdown",
   "metadata": {},
   "source": [
    "## Learning Rate .1"
   ]
  },
  {
   "cell_type": "code",
   "execution_count": 27,
   "metadata": {},
   "outputs": [
    {
     "name": "stdout",
     "output_type": "stream",
     "text": [
      "0 Train accuracy: 0.59 Test accuracy: 0.48\n",
      "1 Train accuracy: 0.59 Test accuracy: 0.48\n",
      "2 Train accuracy: 0.41 Test accuracy: 0.52\n",
      "3 Train accuracy: 0.59 Test accuracy: 0.48\n",
      "4 Train accuracy: 0.59 Test accuracy: 0.48\n",
      "5 Train accuracy: 0.59 Test accuracy: 0.48\n",
      "6 Train accuracy: 0.59 Test accuracy: 0.48\n",
      "7 Train accuracy: 0.59 Test accuracy: 0.48\n",
      "8 Train accuracy: 0.59 Test accuracy: 0.48\n",
      "9 Train accuracy: 0.59 Test accuracy: 0.48\n",
      "10 Train accuracy: 0.59 Test accuracy: 0.48\n",
      "11 Train accuracy: 0.59 Test accuracy: 0.48\n",
      "12 Train accuracy: 0.59 Test accuracy: 0.48\n",
      "13 Train accuracy: 0.59 Test accuracy: 0.48\n",
      "14 Train accuracy: 0.59 Test accuracy: 0.48\n",
      "15 Train accuracy: 0.59 Test accuracy: 0.48\n",
      "16 Train accuracy: 0.59 Test accuracy: 0.48\n",
      "17 Train accuracy: 0.59 Test accuracy: 0.48\n",
      "18 Train accuracy: 0.59 Test accuracy: 0.48\n",
      "19 Train accuracy: 0.59 Test accuracy: 0.48\n"
     ]
    },
    {
     "data": {
      "text/plain": [
       "261.69815611839294"
      ]
     },
     "execution_count": 27,
     "metadata": {},
     "output_type": "execute_result"
    }
   ],
   "source": [
    "init = tf.global_variables_initializer()    \n",
    "\n",
    "n_epochs = 20\n",
    "batch_size = 100\n",
    "start = time.time()\n",
    "with tf.Session() as sess:\n",
    "    init.run()\n",
    "    for epoch in range(n_epochs):                \n",
    "        for iteration in range(y_train.shape[0] // batch_size):\n",
    "            X_batch = X_train[iteration*batch_size:(iteration + 1)*batch_size,:]\n",
    "            y_batch = y_train[iteration*batch_size:(iteration + 1)*batch_size]\n",
    "            sess.run(training_op, feed_dict={X: X_batch, y: y_batch})\n",
    "        \n",
    "        acc_train = accuracy.eval(feed_dict={X: X_batch, y: y_batch})\n",
    "        acc_test = accuracy.eval(feed_dict={X: X_test, y: y_test})\n",
    "        print(epoch, \"Train accuracy:\", acc_train, \"Test accuracy:\", acc_test)\n",
    "        \n",
    "end = time.time()\n",
    "Runtime = end-start\n",
    "Runtime"
   ]
  },
  {
   "cell_type": "markdown",
   "metadata": {},
   "source": [
    " With .1 Learning Rate there is is no improvement in learning"
   ]
  },
  {
   "cell_type": "code",
   "execution_count": 31,
   "metadata": {},
   "outputs": [],
   "source": [
    "reset_graph()"
   ]
  },
  {
   "cell_type": "code",
   "execution_count": 32,
   "metadata": {},
   "outputs": [],
   "source": [
    "height = 64\n",
    "width = 64 \n",
    "channels = 1  # When working with color images use channels = 3\n",
    "n_inputs = height * width\n",
    "n_outputs = 2\n",
    "conv1_fmaps = 32\n",
    "conv1_ksize = 3\n",
    "conv1_stride = 1\n",
    "conv1_pad = \"SAME\"\n",
    "\n",
    "conv2_fmaps = 64\n",
    "conv2_ksize = 3\n",
    "conv2_stride = 2\n",
    "conv2_pad = \"SAME\"\n",
    "#conv2_dropout_rate = 0.25\n",
    "\n",
    "pool3_fmaps = conv2_fmaps\n",
    "n_fc1 = 72\n",
    "fc1_dropout_rate = 0.5\n",
    "\n",
    "with tf.name_scope(\"inputs\"):\n",
    "    X = tf.placeholder(tf.float32, shape=[None, n_inputs], name=\"X\")\n",
    "    X_reshaped = tf.reshape(X, shape=[-1, height, width, channels])\n",
    "    y = tf.placeholder(tf.int32, shape=[None], name=\"y\")\n",
    "    \n",
    "conv1 = tf.layers.conv2d(X_reshaped, filters=conv1_fmaps, kernel_size=conv1_ksize,\n",
    "                         strides=conv1_stride, padding=conv1_pad,\n",
    "                         activation=tf.nn.relu, name=\"conv1\")\n",
    "conv2 = tf.layers.conv2d(conv1, filters=conv2_fmaps, kernel_size=conv2_ksize,\n",
    "                         strides=conv2_stride, padding=conv2_pad,\n",
    "                         activation=tf.nn.relu, name=\"conv2\")\n",
    "with tf.name_scope(\"pool3\"):\n",
    "    pool3 = tf.nn.max_pool(conv2, ksize=[1, 2, 2, 1], strides=[1, 2, 2, 1], padding=\"VALID\")\n",
    "    pool3_flat = tf.reshape(pool3, shape=[-1, pool3_fmaps * 16 * 16])\n",
    "\n",
    "with tf.name_scope(\"fc1\"):\n",
    "    fc1 = tf.layers.dense(pool3_flat, n_fc1, activation=tf.nn.relu, name=\"fc1\")\n",
    "\n",
    "with tf.name_scope(\"output\"):\n",
    "    logits = tf.layers.dense(fc1, n_outputs, name=\"output\")\n",
    "    Y_proba = tf.nn.softmax(logits, name=\"Y_proba\")\n",
    "\n",
    "\n",
    "with tf.name_scope(\"train\"):\n",
    "    xentropy = tf.nn.sparse_softmax_cross_entropy_with_logits(logits=logits, labels=y)\n",
    "    loss = tf.reduce_mean(xentropy)\n",
    "    optimizer = tf.train.AdamOptimizer(learning_rate = .0001)\n",
    "    training_op = optimizer.minimize(loss)\n",
    "\n",
    "with tf.name_scope(\"eval\"):\n",
    "    correct = tf.nn.in_top_k(logits, y, 1)\n",
    "    accuracy = tf.reduce_mean(tf.cast(correct, tf.float32))\n",
    "    \n",
    "X_train, X_test, y_train, y_test = \\\n",
    "    train_test_split(X_cat_dog_min_max, y_cat_dog, test_size=0.20, \n",
    "                     random_state = RANDOM_SEED)"
   ]
  },
  {
   "cell_type": "markdown",
   "metadata": {},
   "source": [
    "## Learning Rate .0001\n",
    "### Tested with 20, 25, and 30 epochs\n",
    "### Also tested batch sizes 50, 100 and 200, with no increase in performance "
   ]
  },
  {
   "cell_type": "code",
   "execution_count": 35,
   "metadata": {},
   "outputs": [
    {
     "name": "stdout",
     "output_type": "stream",
     "text": [
      "0 Train accuracy: 0.64 Test accuracy: 0.505\n",
      "1 Train accuracy: 0.66 Test accuracy: 0.5425\n",
      "2 Train accuracy: 0.7 Test accuracy: 0.585\n",
      "3 Train accuracy: 0.72 Test accuracy: 0.59\n",
      "4 Train accuracy: 0.74 Test accuracy: 0.5925\n",
      "5 Train accuracy: 0.76 Test accuracy: 0.6125\n",
      "6 Train accuracy: 0.76 Test accuracy: 0.6325\n",
      "7 Train accuracy: 0.82 Test accuracy: 0.63\n",
      "8 Train accuracy: 0.86 Test accuracy: 0.625\n",
      "9 Train accuracy: 0.88 Test accuracy: 0.6225\n",
      "10 Train accuracy: 0.88 Test accuracy: 0.63\n",
      "11 Train accuracy: 0.92 Test accuracy: 0.6375\n",
      "12 Train accuracy: 0.94 Test accuracy: 0.635\n",
      "13 Train accuracy: 0.94 Test accuracy: 0.6325\n",
      "14 Train accuracy: 0.92 Test accuracy: 0.6325\n",
      "15 Train accuracy: 0.92 Test accuracy: 0.63\n",
      "16 Train accuracy: 0.92 Test accuracy: 0.6325\n",
      "17 Train accuracy: 0.94 Test accuracy: 0.6275\n",
      "18 Train accuracy: 0.94 Test accuracy: 0.635\n",
      "19 Train accuracy: 0.94 Test accuracy: 0.64\n",
      "20 Train accuracy: 0.94 Test accuracy: 0.6425\n",
      "21 Train accuracy: 0.96 Test accuracy: 0.6425\n",
      "22 Train accuracy: 0.96 Test accuracy: 0.6375\n",
      "23 Train accuracy: 0.96 Test accuracy: 0.64\n",
      "24 Train accuracy: 0.96 Test accuracy: 0.645\n",
      "25 Train accuracy: 0.96 Test accuracy: 0.645\n",
      "26 Train accuracy: 0.96 Test accuracy: 0.6425\n",
      "27 Train accuracy: 0.96 Test accuracy: 0.6425\n",
      "28 Train accuracy: 0.96 Test accuracy: 0.64\n",
      "29 Train accuracy: 0.98 Test accuracy: 0.6475\n"
     ]
    },
    {
     "data": {
      "text/plain": [
       "393.7229838371277"
      ]
     },
     "execution_count": 35,
     "metadata": {},
     "output_type": "execute_result"
    }
   ],
   "source": [
    "init = tf.global_variables_initializer()    \n",
    "\n",
    "n_epochs = 30\n",
    "batch_size = 50\n",
    "iteration = 0\n",
    "\n",
    "best_loss_val = np.infty\n",
    "check_interval = 500\n",
    "checks_since_last_progress = 0\n",
    "max_checks_without_progress = 20\n",
    "best_model_params = None \n",
    "\n",
    "start = time.time()\n",
    "with tf.Session() as sess:\n",
    "    init.run()\n",
    "    for epoch in range(n_epochs):\n",
    "        for iteration in range(y_train.shape[0] // batch_size):\n",
    "            X_batch = X_train[iteration*batch_size:(iteration + 1)*batch_size,:]\n",
    "            y_batch = y_train[iteration*batch_size:(iteration + 1)*batch_size]\n",
    "            sess.run(training_op, feed_dict={X: X_batch, y: y_batch})\n",
    "        \n",
    "        acc_train = accuracy.eval(feed_dict={X: X_batch, y: y_batch})\n",
    "        acc_test = accuracy.eval(feed_dict={X: X_test, y: y_test})\n",
    "        print(epoch, \"Train accuracy:\", acc_train, \"Test accuracy:\", acc_test)\n",
    "\n",
    "end = time.time()\n",
    "Runtime = end-start\n",
    "Runtime"
   ]
  },
  {
   "cell_type": "code",
   "execution_count": null,
   "metadata": {},
   "outputs": [],
   "source": [
    "reset_graph()"
   ]
  },
  {
   "cell_type": "code",
   "execution_count": null,
   "metadata": {},
   "outputs": [],
   "source": []
  },
  {
   "cell_type": "code",
   "execution_count": null,
   "metadata": {},
   "outputs": [],
   "source": []
  },
  {
   "cell_type": "code",
   "execution_count": null,
   "metadata": {},
   "outputs": [],
   "source": [
    "\n"
   ]
  },
  {
   "cell_type": "code",
   "execution_count": null,
   "metadata": {},
   "outputs": [],
   "source": []
  },
  {
   "cell_type": "code",
   "execution_count": null,
   "metadata": {},
   "outputs": [],
   "source": []
  }
 ],
 "metadata": {
  "kernelspec": {
   "display_name": "Python 3",
   "language": "python",
   "name": "python3"
  },
  "language_info": {
   "codemirror_mode": {
    "name": "ipython",
    "version": 3
   },
   "file_extension": ".py",
   "mimetype": "text/x-python",
   "name": "python",
   "nbconvert_exporter": "python",
   "pygments_lexer": "ipython3",
   "version": "3.6.9"
  }
 },
 "nbformat": 4,
 "nbformat_minor": 2
}
